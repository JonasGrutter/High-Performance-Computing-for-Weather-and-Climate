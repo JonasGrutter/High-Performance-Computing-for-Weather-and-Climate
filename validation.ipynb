{
 "cells": [
  {
   "cell_type": "code",
   "execution_count": 3,
   "id": "e36ee708-2d7b-4e5b-8fd4-f6c1a6e5734c",
   "metadata": {},
   "outputs": [],
   "source": [
    "import ipcmagic\n",
    "import ipyparallel as ipp\n",
    "import matplotlib\n",
    "import matplotlib.pyplot as plt\n",
    "import numpy as np\n"
   ]
  },
  {
   "cell_type": "code",
   "execution_count": 4,
   "id": "3be4fa85-0c7e-4c22-a790-64aadb5b39ad",
   "metadata": {},
   "outputs": [
    {
     "data": {
      "application/vnd.jupyter.widget-view+json": {
       "model_id": "44473fdcfdf24e52b236648a0c29a97c",
       "version_major": 2,
       "version_minor": 0
      },
      "text/plain": [
       "  0%|          | 0/12 [00:00<?, ?engine/s]"
      ]
     },
     "metadata": {},
     "output_type": "display_data"
    }
   ],
   "source": [
    "%ipcluster start -n 12 --mpi"
   ]
  },
  {
   "cell_type": "code",
   "execution_count": 5,
   "id": "c9bee9d2-ded6-457e-946f-2a51d13ea140",
   "metadata": {},
   "outputs": [
    {
     "name": "stdout",
     "output_type": "stream",
     "text": [
      "Running IPython Parallel on 12 MPI engines\n"
     ]
    }
   ],
   "source": [
    "rc = ipp.Client()\n",
    "rc.ids\n",
    "dv = rc[:]\n",
    "dv.activate()\n",
    "dv.block = True\n",
    "print(\"Running IPython Parallel on {0} MPI engines\".format(len(rc.ids)))\n",
    "%px from mpi4py import MPI\n",
    "%px mpi_rank = MPI.COMM_WORLD.Get_rank()\n",
    "dv_master = dv.pull(\"mpi_rank\").index(0)"
   ]
  },
  {
   "cell_type": "code",
   "execution_count": 6,
   "id": "5c994567-c1bb-49d9-8218-4fd75ed59489",
   "metadata": {},
   "outputs": [],
   "source": [
    "%%px\n",
    "import os\n",
    "import timeit\n",
    "\n",
    "import numpy as np\n",
    "from mpi4py import MPI\n",
    "import stencil_mpi_3d\n",
    "\n",
    "comm = MPI.COMM_WORLD\n",
    "num_ranks = comm.Get_size()\n",
    "rank = comm.Get_rank()"
   ]
  },
  {
   "cell_type": "code",
   "execution_count": 7,
   "id": "3b982dd4-40bd-4f9e-9dc4-776487f84456",
   "metadata": {},
   "outputs": [],
   "source": [
    "%%px\n",
    "from partitioner import Partitioner"
   ]
  },
  {
   "cell_type": "code",
   "execution_count": 8,
   "id": "7a8cf1d5-92ee-4adb-b2b3-a06ca35de1cf",
   "metadata": {},
   "outputs": [],
   "source": [
    "%%px\n",
    "nx=128\n",
    "ny=128\n",
    "nz=64\n",
    "num_iter=10\n",
    "num_halo=2\n",
    "num_zhalo=2"
   ]
  },
  {
   "cell_type": "code",
   "execution_count": 9,
   "id": "7e814fba-5727-42f5-a933-0d907c71b1c4",
   "metadata": {
    "tags": []
   },
   "outputs": [
    {
     "data": {
      "text/plain": [
       "[stdout:2] Elapsed time for work = 0.03527665138244629 s\n"
      ]
     },
     "metadata": {},
     "output_type": "display_data"
    },
    {
     "data": {
      "text/plain": [
       "[stdout:3] Elapsed time for work = 0.035272836685180664 s\n"
      ]
     },
     "metadata": {},
     "output_type": "display_data"
    },
    {
     "data": {
      "text/plain": [
       "[stdout:4] Elapsed time for work = 0.03527116775512695 s\n"
      ]
     },
     "metadata": {},
     "output_type": "display_data"
    },
    {
     "data": {
      "text/plain": [
       "[stdout:1] Elapsed time for work = 0.03527522087097168 s\n"
      ]
     },
     "metadata": {},
     "output_type": "display_data"
    },
    {
     "data": {
      "text/plain": [
       "[stdout:11] Elapsed time for work = 0.03528404235839844 s\n"
      ]
     },
     "metadata": {},
     "output_type": "display_data"
    },
    {
     "data": {
      "text/plain": [
       "[stdout:9] Elapsed time for work = 0.035292863845825195 s\n"
      ]
     },
     "metadata": {},
     "output_type": "display_data"
    },
    {
     "data": {
      "text/plain": [
       "[stdout:6] Elapsed time for work = 0.03527545928955078 s\n"
      ]
     },
     "metadata": {},
     "output_type": "display_data"
    },
    {
     "data": {
      "text/plain": [
       "[stdout:5] Elapsed time for work = 0.035283803939819336 s\n"
      ]
     },
     "metadata": {},
     "output_type": "display_data"
    },
    {
     "data": {
      "text/plain": [
       "[stdout:8] Elapsed time for work = 0.035280466079711914 s\n"
      ]
     },
     "metadata": {},
     "output_type": "display_data"
    },
    {
     "data": {
      "text/plain": [
       "[stdout:0] Elapsed time for work = 0.03528642654418945 s\n"
      ]
     },
     "metadata": {},
     "output_type": "display_data"
    },
    {
     "data": {
      "text/plain": [
       "[stdout:7] Elapsed time for work = 0.03527045249938965 s\n"
      ]
     },
     "metadata": {},
     "output_type": "display_data"
    },
    {
     "data": {
      "text/plain": [
       "[stdout:10] Elapsed time for work = 0.03528952598571777 s\n"
      ]
     },
     "metadata": {},
     "output_type": "display_data"
    }
   ],
   "source": [
    "%%px\n",
    "run stencil_mpi_3d.py --nx 128 --ny 128 --nz 64 --num_iter 10 --plot_result True"
   ]
  },
  {
   "cell_type": "code",
   "execution_count": null,
   "id": "ecd8ca10-7024-4cfc-a4af-301d02cb17fe",
   "metadata": {},
   "outputs": [],
   "source": []
  },
  {
   "cell_type": "code",
   "execution_count": 10,
   "id": "d4305193-9229-4797-826e-ae8e8192d593",
   "metadata": {},
   "outputs": [],
   "source": [
    "%%px\n",
    "p = Partitioner(comm, [nz+2*num_zhalo, ny, nx], num_halo)"
   ]
  },
  {
   "cell_type": "code",
   "execution_count": null,
   "id": "9c067388-0714-4cbe-9bcb-b1a8ff72de3e",
   "metadata": {
    "tags": []
   },
   "outputs": [],
   "source": []
  },
  {
   "cell_type": "code",
   "execution_count": 11,
   "id": "b350521e-8bb3-471c-a4d3-591c1db6d646",
   "metadata": {
    "tags": []
   },
   "outputs": [],
   "source": [
    "%%px\n",
    "f = -1*np.ones(p.shape())\n",
    "f[:, num_halo:-num_halo, num_halo:-num_halo] = p.rank()\n",
    "global_f = p.gather(f, root=0)\n"
   ]
  },
  {
   "cell_type": "code",
   "execution_count": null,
   "id": "c7daff3e-d900-4515-b747-fa7ced7f6ee5",
   "metadata": {
    "tags": []
   },
   "outputs": [],
   "source": []
  },
  {
   "cell_type": "code",
   "execution_count": 12,
   "id": "201f7e7c-e4b9-48c7-82e9-0b4ab20955b2",
   "metadata": {},
   "outputs": [
    {
     "data": {
      "text/plain": [
       "<matplotlib.colorbar.Colorbar at 0x1554b44d1ee0>"
      ]
     },
     "execution_count": 12,
     "metadata": {},
     "output_type": "execute_result"
    },
    {
     "data": {
      "image/png": "[encoded data removed]",
      "text/plain": [
       "<Figure size 432x288 with 2 Axes>"
      ]
     },
     "metadata": {
      "needs_background": "light"
     },
     "output_type": "display_data"
    }
   ],
   "source": [
    "global_f = dv.pull(\"global_f\", targets=dv_master)\n",
    "plt.imshow(global_f[0, :, :], origin=\"lower\", interpolation=None)\n",
    "plt.colorbar()"
   ]
  },
  {
   "cell_type": "code",
   "execution_count": null,
   "id": "e580b46e-75c0-4a1e-918d-cf05362453bc",
   "metadata": {},
   "outputs": [],
   "source": []
  },
  {
   "cell_type": "code",
   "execution_count": null,
   "id": "9db07b6a-c84a-4c48-9d5c-19303b38d685",
   "metadata": {},
   "outputs": [],
   "source": []
  },
  {
   "cell_type": "code",
   "execution_count": 13,
   "id": "7305d172-0c09-49c2-bb2c-4a2370fc7578",
   "metadata": {
    "tags": []
   },
   "outputs": [],
   "source": [
    "%%px\n",
    "update_halo(f, num_halo, num_zhalo, p=p)\n",
    "global_f_2 = p.gather(f, root=0)\n"
   ]
  },
  {
   "cell_type": "code",
   "execution_count": 14,
   "id": "0dcfbaff-84ff-41be-b87b-d9ab59d0ebc0",
   "metadata": {},
   "outputs": [
    {
     "data": {
      "text/plain": [
       "(132,)"
      ]
     },
     "execution_count": 14,
     "metadata": {},
     "output_type": "execute_result"
    },
    {
     "data": {
      "image/png": "[encoded data removed]",
      "text/plain": [
       "<Figure size 432x288 with 2 Axes>"
      ]
     },
     "metadata": {
      "needs_background": "light"
     },
     "output_type": "display_data"
    }
   ],
   "source": [
    "global_f_2 = dv.pull(\"global_f_2\", targets=dv_master)\n",
    "plt.imshow(global_f_2[0, :, :], origin=\"lower\", interpolation=None)\n",
    "plt.colorbar()\n",
    "np.shape(global_f[5,5,:])"
   ]
  },
  {
   "cell_type": "code",
   "execution_count": 34,
   "id": "a2dfd0f8-0ec3-485c-8799-afddddfbbc4d",
   "metadata": {
    "tags": []
   },
   "outputs": [
    {
     "data": {
      "text/plain": [
       "[stdout:2] 6.0\n"
      ]
     },
     "metadata": {},
     "output_type": "display_data"
    },
    {
     "data": {
      "text/plain": [
       "[stdout:1] 5.0\n"
      ]
     },
     "metadata": {},
     "output_type": "display_data"
    },
    {
     "data": {
      "text/plain": [
       "[stdout:5] 10.0\n"
      ]
     },
     "metadata": {},
     "output_type": "display_data"
    },
    {
     "data": {
      "text/plain": [
       "[stdout:6] 9.0\n"
      ]
     },
     "metadata": {},
     "output_type": "display_data"
    },
    {
     "data": {
      "text/plain": [
       "[stdout:7] 8.0\n"
      ]
     },
     "metadata": {},
     "output_type": "display_data"
    },
    {
     "data": {
      "text/plain": [
       "[stdout:0] 4.0\n"
      ]
     },
     "metadata": {},
     "output_type": "display_data"
    },
    {
     "data": {
      "text/plain": [
       "[stdout:8] 2.0\n"
      ]
     },
     "metadata": {},
     "output_type": "display_data"
    },
    {
     "data": {
      "text/plain": [
       "[stdout:9] 1.0\n"
      ]
     },
     "metadata": {},
     "output_type": "display_data"
    },
    {
     "data": {
      "text/plain": [
       "[stdout:10] 0.0\n"
      ]
     },
     "metadata": {},
     "output_type": "display_data"
    },
    {
     "data": {
      "text/plain": [
       "[stdout:3] 7.0\n"
      ]
     },
     "metadata": {},
     "output_type": "display_data"
    },
    {
     "data": {
      "text/plain": [
       "[stdout:4] 11.0\n"
      ]
     },
     "metadata": {},
     "output_type": "display_data"
    },
    {
     "data": {
      "text/plain": [
       "[stdout:11] 3.0\n"
      ]
     },
     "metadata": {},
     "output_type": "display_data"
    }
   ],
   "source": [
    "%%px\n",
    "print(f[10,10,10])"
   ]
  },
  {
   "cell_type": "code",
   "execution_count": 15,
   "id": "62f73129-ded4-45bc-80c3-37309071e1db",
   "metadata": {},
   "outputs": [],
   "source": [
    "%%px\n",
    "np.save('f'+str(p.rank()), f[10,:,:])"
   ]
  },
  {
   "cell_type": "code",
   "execution_count": 42,
   "id": "780ec83e-94db-4c2d-9aaf-3bfa078e955d",
   "metadata": {},
   "outputs": [
    {
     "data": {
      "text/plain": [
       "6.0"
      ]
     },
     "execution_count": 42,
     "metadata": {},
     "output_type": "execute_result"
    }
   ],
   "source": [
    "dat=np.load('f' + str(6) + '.npy')\n",
    "dat[10,10]"
   ]
  },
  {
   "cell_type": "code",
   "execution_count": 45,
   "id": "8287be5b-b321-433e-9d13-0014c2bbcd2e",
   "metadata": {},
   "outputs": [
    {
     "data": {
      "text/plain": [
       "<matplotlib.colorbar.Colorbar at 0x155499ef95e0>"
      ]
     },
     "execution_count": 45,
     "metadata": {},
     "output_type": "execute_result"
    },
    {
     "data": {
      "image/png": "[encoded data removed]",
      "text/plain": [
       "<Figure size 432x288 with 2 Axes>"
      ]
     },
     "metadata": {
      "needs_background": "light"
     },
     "output_type": "display_data"
    }
   ],
   "source": [
    "plt.imshow(np.load('f' + str(3) + '.npy'), origin=\"lower\", extent=None)\n",
    "plt.colorbar()"
   ]
  },
  {
   "cell_type": "code",
   "execution_count": 60,
   "id": "0442d89b-adbb-4cb3-9362-7da141cd6602",
   "metadata": {},
   "outputs": [
    {
     "data": {
      "image/png": "[encoded data removed]",
      "text/plain": [
       "<Figure size 720x720 with 12 Axes>"
      ]
     },
     "metadata": {
      "needs_background": "light"
     },
     "output_type": "display_data"
    }
   ],
   "source": [
    "rows=4\n",
    "cols=3\n",
    "fig,ax=plt.subplots(rows,cols,figsize=(10, 10))\n",
    "for i in range(rows*cols):\n",
    "    data=np.load('f' + str(i) + '.npy')\n",
    "    ax[(-i-1)//cols,i%cols].imshow(data, origin=\"lower\",cmap='viridis',vmin=0,vmax=11)"
   ]
  },
  {
   "cell_type": "code",
   "execution_count": null,
   "id": "aace0297-c603-496a-8eba-e84ed9389748",
   "metadata": {},
   "outputs": [],
   "source": []
  },
  {
   "cell_type": "code",
   "execution_count": null,
   "id": "bd0e9bd7-7e49-44e1-aa59-9d513409e438",
   "metadata": {},
   "outputs": [],
   "source": []
  }
 ],
 "metadata": {
  "kernelspec": {
   "display_name": "Python 3 (ipykernel)",
   "language": "python",
   "name": "python3"
  },
  "language_info": {
   "codemirror_mode": {
    "name": "ipython",
    "version": 3
   },
   "file_extension": ".py",
   "mimetype": "text/x-python",
   "name": "python",
   "nbconvert_exporter": "python",
   "pygments_lexer": "ipython3",
   "version": "3.9.4"
  }
 },
 "nbformat": 4,
 "nbformat_minor": 5
}
