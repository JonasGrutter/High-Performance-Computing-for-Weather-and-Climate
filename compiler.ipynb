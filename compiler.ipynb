{
 "cells": [
  {
   "cell_type": "markdown",
   "id": "d1f27949-4b67-4220-a7b2-75bf1111866e",
   "metadata": {},
   "source": [
    "## This file is used to compile and test the Fortran code"
   ]
  },
  {
   "cell_type": "code",
   "execution_count": 1,
   "id": "403021de-e9d5-457c-95b9-77ed8e1a296b",
   "metadata": {},
   "outputs": [],
   "source": [
    "import numpy as np\n",
    "import matplotlib\n",
    "import matplotlib.pyplot as plt\n",
    "import pandas as pd\n",
    "import ast"
   ]
  },
  {
   "cell_type": "code",
   "execution_count": 2,
   "id": "3ef40ab4-0a17-4f9f-a99c-4e3f599924bb",
   "metadata": {},
   "outputs": [
    {
     "name": "stdout",
     "output_type": "stream",
     "text": [
      "===== cleaning up =====\n",
      "rm -f -rf *~ *.o *.mod *.MOD *.i core.* *.out *.lst *.x *.x+orig *.x+[0-9]* *.dat *.report result_*.py report*.txt\n",
      "===== compiling =====\n",
      "ftn -O3 -hfp3 -eZ -ffree -N255 -ec -eC -eI -eF -rm -c m_utils.F90\n",
      "ftn -O3 -hfp3 -eZ -ffree -N255 -ec -eC -eI -eF -rm -c m_partitioner.F90\n",
      "ftn -O3 -hfp3 -eZ -ffree -N255 -ec -eC -eI -eF -rm -c stencil2d-mpi.F90\n",
      "ftn -O3 -hfp3 -eZ -ffree -N255 -ec -eC -eI -eF -rm m_utils.o m_partitioner.o stencil2d-mpi.o -o stencil2d-mpi.x\n"
     ]
    },
    {
     "name": "stderr",
     "output_type": "stream",
     "text": [
      "INFO: creating the PerfTools-instrumented executable 'stencil2d-mpi.x' (lite-samples) ...OK\n"
     ]
    },
    {
     "name": "stdout",
     "output_type": "stream",
     "text": [
      "cp stencil2d-mpi.x stencil2d.x\n"
     ]
    }
   ],
   "source": [
    "%%bash\n",
    "module load daint-gpu\n",
    "module switch PrgEnv-gnu PrgEnv-cray\n",
    "module load perftools-lite\n",
    "\n",
    "echo \"===== cleaning up =====\"\n",
    "make clean\n",
    "echo \"===== compiling =====\"\n",
    "make VERSION=mpi"
   ]
  },
  {
   "cell_type": "code",
   "execution_count": 3,
   "id": "4533c74a-933c-4933-b3b8-fa86a8d99e35",
   "metadata": {},
   "outputs": [],
   "source": [
    "output = !gprof srun -n 3 ./stencil3d-mpi.x+orig --nx 64 --ny 64--nz 32 --num_iter 10 --num_halo 2 "
   ]
  },
  {
   "cell_type": "code",
   "execution_count": 29,
   "id": "09373fc5-d591-48cb-ab38-8771d17464c7",
   "metadata": {},
   "outputs": [
    {
     "name": "stdout",
     "output_type": "stream",
     "text": [
      "# ranks nx ny nz num_iter time time_halo\n",
      "data = np.array( [ \\\n",
      "[    3,  200,  128,  128,    1024,  0.4040871E+01,  0.4275913E+00], \\\n",
      "] )\n"
     ]
    }
   ],
   "source": [
    "print(output.nlstr)\n",
    "exec(output.nlstr)"
   ]
  },
  {
   "cell_type": "code",
   "execution_count": 9,
   "id": "7c1f148c-e7f3-4eae-b046-f7a4d02ab9a2",
   "metadata": {
    "tags": []
   },
   "outputs": [
    {
     "data": {
      "text/plain": [
       "['# ranks nx ny nz num_iter time time_halo',\n",
       " 'data = np.array( [ \\\\',\n",
       " '[   12,  128,  128,  128,    1024,  0.1741798E+01,  0.2540040E+00], \\\\',\n",
       " '] )']"
      ]
     },
     "execution_count": 9,
     "metadata": {},
     "output_type": "execute_result"
    }
   ],
   "source": [
    "output"
   ]
  },
  {
   "cell_type": "code",
   "execution_count": 6,
   "id": "69948b5d-05fd-467a-bd1e-b60c6fc40f97",
   "metadata": {},
   "outputs": [
    {
     "data": {
      "text/plain": [
       "[[0, 64, 64, 32, 100, 0.008507013],\n",
       " [1, 64, 64, 32, 100, 0.008467674],\n",
       " [2, 64, 64, 32, 100, 0.008479118],\n",
       " [3, 64, 64, 32, 100, 0.008467913],\n",
       " [4, 64, 64, 32, 100, 0.008469582]]"
      ]
     },
     "execution_count": 6,
     "metadata": {},
     "output_type": "execute_result"
    }
   ],
   "source": [
    "df = np.asarray(output)\n",
    "df.tolist()\n",
    "df = [ast.literal_eval(i) for i in df]\n",
    "df"
   ]
  },
  {
   "cell_type": "code",
   "execution_count": 3,
   "id": "869eba78-149a-4651-a65f-98864eafc3e7",
   "metadata": {},
   "outputs": [],
   "source": [
    "outputs=np.zeros([8])"
   ]
  },
  {
   "cell_type": "code",
   "execution_count": 3,
   "id": "61facfda-2db0-4519-bf45-88e73610bb4f",
   "metadata": {},
   "outputs": [],
   "source": [
    "#this is the way to do it\n",
    "num_halos=np.arange(2,11)\n",
    "lst1=[]\n",
    "for j in range(5):\n",
    "    lst=[]\n",
    "    for i in range(len(num_halos)):\n",
    "        output=!srun -n 2 ./stencil3d-mpi.x+orig --nx 64 --ny 64 --nz 32 --num_iter 500 --num_halo {num_halos[i]}\n",
    "        lst.append(ast.literal_eval(output[-2].replace(\"], \\\\\",\"]\" ))[5:])\n",
    "    lst1.append(lst)"
   ]
  },
  {
   "cell_type": "code",
   "execution_count": 4,
   "id": "a874ce90-f597-4bd0-805d-5dccd9881a44",
   "metadata": {},
   "outputs": [],
   "source": [
    "mean_n2=np.mean(lst1, axis=0)\n",
    "std_n2=np.std(lst1, axis=0)"
   ]
  },
  {
   "cell_type": "code",
   "execution_count": 6,
   "id": "9d5fcd91-43a7-4ba7-8a6e-a5734455d4f0",
   "metadata": {},
   "outputs": [
    {
     "data": {
      "text/plain": [
       "array([[0.00104614, 0.00018604],\n",
       "       [0.00224088, 0.00064551],\n",
       "       [0.00127753, 0.00081713],\n",
       "       [0.00293812, 0.00155732],\n",
       "       [0.00184339, 0.00075167],\n",
       "       [0.00063884, 0.00020534],\n",
       "       [0.00237025, 0.00110267],\n",
       "       [0.00096193, 0.00057311],\n",
       "       [0.00319397, 0.00187905]])"
      ]
     },
     "execution_count": 6,
     "metadata": {},
     "output_type": "execute_result"
    }
   ],
   "source": [
    "std_n2"
   ]
  },
  {
   "cell_type": "code",
   "execution_count": 5,
   "id": "ec7a3e0b-1aad-402e-919f-3c1da4cbf4d6",
   "metadata": {},
   "outputs": [
    {
     "data": {
      "text/plain": [
       "[<matplotlib.lines.Line2D at 0x1554b11f17f0>,\n",
       " <matplotlib.lines.Line2D at 0x1554b11f1790>]"
      ]
     },
     "execution_count": 5,
     "metadata": {},
     "output_type": "execute_result"
    },
    {
     "data": {
      "image/png": "[encoded data removed]",
      "text/plain": [
       "<Figure size 432x288 with 1 Axes>"
      ]
     },
     "metadata": {
      "needs_background": "light"
     },
     "output_type": "display_data"
    }
   ],
   "source": [
    "plt.plot(num_halos,mean_n2)"
   ]
  },
  {
   "cell_type": "code",
   "execution_count": 12,
   "id": "4acb3400-eb75-43bb-bee0-f583ef7fd70c",
   "metadata": {},
   "outputs": [],
   "source": [
    "#this is the way to do it\n",
    "num_ranks=np.array([2,4,6,8,10,12,14,16])\n",
    "lst_2halo=[]\n",
    "for j in range(10):\n",
    "    lst=[]\n",
    "    for i in range(len(num_ranks)):\n",
    "        output=!srun -n {num_ranks[i]} ./stencil3d-mpi.x+orig --nx 64 --ny 64 --nz 32 --num_iter 500 --num_halo 2\n",
    "        lst.append(ast.literal_eval(output[-2].replace(\"], \\\\\",\"]\" ))[5:])\n",
    "    lst_2halo.append(lst)"
   ]
  },
  {
   "cell_type": "code",
   "execution_count": 28,
   "id": "e4b10a73-9376-418f-b961-f06bc6b65864",
   "metadata": {
    "tags": []
   },
   "outputs": [
    {
     "data": {
      "text/plain": [
       "array([0.08346915, 0.083022  , 0.08262467, 0.08215475, 0.08502173,\n",
       "       0.08257842, 0.08754325, 0.0831089 , 0.08486605, 0.08414125])"
      ]
     },
     "execution_count": 28,
     "metadata": {},
     "output_type": "execute_result"
    }
   ],
   "source": [
    "np.asarray(lst_2halo)[:,0,0]"
   ]
  },
  {
   "cell_type": "code",
   "execution_count": 33,
   "id": "7cfc477b-2e74-4315-a691-736e7e67fc5d",
   "metadata": {},
   "outputs": [
    {
     "data": {
      "image/png": "[encoded data removed]",
      "text/plain": [
       "<Figure size 432x288 with 1 Axes>"
      ]
     },
     "metadata": {
      "needs_background": "light"
     },
     "output_type": "display_data"
    }
   ],
   "source": [
    "for i in range(10):\n",
    "    plt.plot(num_ranks, np.asarray(lst_2halo)[i,:,0])"
   ]
  },
  {
   "cell_type": "code",
   "execution_count": 34,
   "id": "02c63e54-929c-435d-83d9-d986e3445f90",
   "metadata": {},
   "outputs": [
    {
     "data": {
      "image/png": "[encoded data removed]",
      "text/plain": [
       "<Figure size 432x288 with 1 Axes>"
      ]
     },
     "metadata": {
      "needs_background": "light"
     },
     "output_type": "display_data"
    }
   ],
   "source": [
    "for i in range(10):\n",
    "    plt.plot(num_ranks, np.asarray(lst_2halo)[i,:,1])"
   ]
  },
  {
   "cell_type": "code",
   "execution_count": 19,
   "id": "840a5a3a-4f33-4c99-9c81-7232f673b975",
   "metadata": {},
   "outputs": [
    {
     "data": {
      "text/plain": [
       "<ErrorbarContainer object of 3 artists>"
      ]
     },
     "execution_count": 19,
     "metadata": {},
     "output_type": "execute_result"
    },
    {
     "data": {
      "image/png": "[encoded data removed]",
      "text/plain": [
       "<Figure size 432x288 with 1 Axes>"
      ]
     },
     "metadata": {
      "needs_background": "light"
     },
     "output_type": "display_data"
    }
   ],
   "source": [
    "mean_halo2=np.mean(lst_2halo, axis=0)\n",
    "std_halo2=np.std(lst_2halo, axis=0)\n",
    "plt.errorbar(num_ranks,mean_halo2[:,0],yerr=std_halo2[:,0])\n",
    "plt.errorbar(num_ranks,mean_halo2[:,1],yerr=std_halo2[:,1])"
   ]
  },
  {
   "cell_type": "code",
   "execution_count": 82,
   "id": "04a6e197-5707-4c3b-b8e4-af48b1d965e0",
   "metadata": {},
   "outputs": [],
   "source": [
    "#this is the way to do it\n",
    "num_ranks=np.array([2,4,6,8,10,12,14,16,18,20])\n",
    "num_halos=np.arange(2,16)\n",
    "df2 = pd.DataFrame(columns = num_ranks, index = num_halos)\n",
    "for l in range(len(num_halos)):\n",
    "    for i in range(len(num_ranks)):\n",
    "        lst_both_const=[]\n",
    "        for j in range(10):\n",
    "            output=!srun -n {num_ranks[i]} ./stencil3d-mpi.x+orig --nx 64 --ny 64 --nz 32 --num_iter 500 --num_halo {num_halos[l]}\n",
    "            lst_both_const.append(ast.literal_eval(output[-2].replace(\"], \\\\\",\"]\" ))[5:])\n",
    "        mean_val=np.mean(lst_both_const, axis=0)\n",
    "        std_val=np.std(lst_both_const, axis=0)\n",
    "        df2.at[num_halos[l],num_ranks[i]] = [mean_val.tolist(), std_val.tolist()]\n",
    "        \n",
    "df2.to_csv('dataframes/big_df2.csv')"
   ]
  },
  {
   "cell_type": "code",
   "execution_count": null,
   "id": "c8516dd3-d6d6-404d-8146-cc28a4c148d3",
   "metadata": {},
   "outputs": [],
   "source": [
    "#this is the way to do it more than 1 node\n",
    "num_ranks=np.array([2,4,6,8,10,12,14,16,18,20,22,24])\n",
    "num_halos=np.arange(2,16)\n",
    "df2 = pd.DataFrame(columns = num_ranks, index = num_halos)\n",
    "for l in range(len(num_halos)):\n",
    "    for i in range(len(num_ranks)):\n",
    "        lst_both_const=[]\n",
    "        for j in range(10):\n",
    "            output=!srun -n {num_ranks[i]} ./stencil3d-mpi.x+orig --nx 128 --ny 128 --nz 32 --num_iter 50 --num_halo {num_halos[l]}\n",
    "            lst_both_const.append(ast.literal_eval(output[-2].replace(\"], \\\\\",\"]\" ))[5:])\n",
    "        mean_val=np.mean(lst_both_const, axis=0)\n",
    "        std_val=np.std(lst_both_const, axis=0)\n",
    "        df2.at[num_halos[l],num_ranks[i]] = [mean_val.tolist(), std_val.tolist()]\n",
    "        \n",
    "df2.to_csv('dataframes/big_df_128.csv')"
   ]
  },
  {
   "cell_type": "code",
   "execution_count": null,
   "id": "ec50decc-c10b-401c-b1d3-84aeb8de9acf",
   "metadata": {},
   "outputs": [],
   "source": [
    "output"
   ]
  },
  {
   "cell_type": "code",
   "execution_count": 7,
   "id": "19afb76a-e936-4ca4-adfe-03db3bf6115d",
   "metadata": {
    "tags": []
   },
   "outputs": [
    {
     "name": "stdout",
     "output_type": "stream",
     "text": [
      "====== 64 x 64 x 32 ======\n"
     ]
    },
    {
     "name": "stderr",
     "output_type": "stream",
     "text": [
      "CrayPat/X:  Version 21.09.0 Revision b02949528  08/17/21 03:14:02\n"
     ]
    }
   ],
   "source": [
    "%%bash\n",
    "echo \"====== 64 x 64 x 32 ======\"\n",
    "srun -n 2 ./stencil3d-mpi.x --nx 512 --ny 512 --nz 32 --num_halo 2 --num_iter 500 > report_512x512x32_2.txt"
   ]
  },
  {
   "cell_type": "code",
   "execution_count": 14,
   "id": "c9638ed9-9ad8-40f7-8fc0-a121f08501df",
   "metadata": {
    "collapsed": true,
    "jupyter": {
     "outputs_hidden": true
    },
    "tags": []
   },
   "outputs": [
    {
     "name": "stdout",
     "output_type": "stream",
     "text": [
      "CrayPat/X:  Version 21.09.0 Revision b02949528  08/17/21 03:14:02\n",
      "\n",
      "Number of PEs (MPI ranks):   12\n",
      "                           \n",
      "Numbers of PEs per Node:      6  PEs on each of  2  Nodes\n",
      "                           \n",
      "Numbers of Threads per PE:    1\n",
      "                           \n",
      "Number of Cores per Socket:  12\n",
      "\n",
      "Accelerator Model: Nvidia P100-PCIE-16GB Memory: 16.00 GB Frequency: 1.19 GHz\n",
      "\n",
      "Accelerator Driver Version: 470.57.2\n",
      "\n",
      "Execution start time:  Sat Sep 24 19:32:55 2022\n",
      "\n",
      "System name and speed:  nid04871  3.000 GHz (nominal)\n",
      "\n",
      "Intel Haswell              CPU  Family:  6  Model: 63  Stepping:  2\n",
      "\n",
      "DRAM:  64 GiB DDR4-2400 on 2.6 GHz nodes\n",
      "\n",
      "\n",
      "Current path to data file:\n",
      "  /users/class197/bin/myproject/stencil2d-mpi.x+10526-4871s   (RTS, 12 data files)\n",
      "\n"
     ]
    },
    {
     "name": "stderr",
     "output_type": "stream",
     "text": [
      "Processing step 1 of 1\n"
     ]
    },
    {
     "name": "stdout",
     "output_type": "stream",
     "text": [
      "\n",
      "Notes for table 1:\n",
      "\n",
      "  This table shows functions that have significant exclusive time,\n",
      "    averaged across ranks, as the leaves in a calltree view. Time\n",
      "    shown for a callsite (non-leaf) is the sum of times below it in\n",
      "    the tree. Where possible, callsites within a calling function are\n",
      "    identified by source file and line number.\n",
      "  For further explanation, see the \"General table notes\" below,\n",
      "    or use:  pat_report -v -O calltree+src ...\n",
      "\n",
      "Table 1:  Calltree View with Callsite Line Numbers\n",
      "\n",
      "  Samp% | Samp | Calltree\n",
      "        |      |  PE=HIDE\n",
      "       \n",
      " 100.0% |  3.0 | Total\n",
      "|----------------------------------------------------------------\n",
      "| 100.0% |  3.0 | main_:stencil2d-mpi.F90:line.85\n",
      "||---------------------------------------------------------------\n",
      "||  30.6% |  0.9 | apply_diffusion$main_:stencil2d-mpi.F90:line.175\n",
      "||  25.0% |  0.8 | apply_diffusion$main_:stencil2d-mpi.F90:line.170\n",
      "|||--------------------------------------------------------------\n",
      "3||  11.1% |  0.3 | update_halo$main_:stencil2d-mpi.F90:line.355\n",
      "4||        |      |  MPI_WAITALL\n",
      "3||   8.3% |  0.2 | update_halo$main_:stencil2d-mpi.F90:line.365\n",
      "3||   2.8% |  0.1 | update_halo$main_:stencil2d-mpi.F90:line.363\n",
      "3||   2.8% |  0.1 | update_halo$main_:stencil2d-mpi.F90:line.322\n",
      "4||        |      |  MPI_WAITALL\n",
      "|||==============================================================\n",
      "||  19.4% |  0.6 | apply_diffusion$main_:stencil2d-mpi.F90:line.183\n",
      "||  19.4% |  0.6 | apply_diffusion$main_:stencil2d-mpi.F90:line.193\n",
      "||   2.8% |  0.1 | apply_diffusion$main_:stencil2d-mpi.F90:line.192\n",
      "||   2.8% |  0.1 | apply_diffusion$main_:stencil2d-mpi.F90:line.194\n",
      "|================================================================\n",
      "\n",
      "========================  Additional details  ========================\n",
      "\n",
      "\n",
      "\n",
      "General table notes:\n",
      "\n",
      "    The default notes for a table are based on the default definition of\n",
      "    the table, and do not account for the effects of command-line options\n",
      "    that may modify the content of the table.\n",
      "    \n",
      "    Detailed notes, produced by the pat_report -v option, do account for\n",
      "    all command-line options, and also show how data is aggregated, and\n",
      "    if the table content is limited by thresholds, rank selections, etc.\n",
      "    \n",
      "    An imbalance metric in a line is based on values in main threads\n",
      "    across multiple ranks, or on values across all threads, as applicable.\n",
      "    \n",
      "    An imbalance percent in a line is relative to the maximum value\n",
      "    for that line across ranks or threads, as applicable.\n",
      "    \n",
      "Experiment:  samp_cs_time\n",
      "\n",
      "Sampling interval:  10000 microsecs\n",
      "\n",
      "Original path to data file:\n",
      "  /users/class197/bin/myproject/stencil2d-mpi.x+10526-4871s/xf-files   (RTS, 12 data files)\n",
      "\n",
      "Original program:  /users/class197/bin/myproject/stencil2d-mpi.x+orig\n",
      "\n",
      "Instrumented with:\n",
      "  pat_build -f -O lite-samples -Drtenv=PAT_RT_REPORT_METHOD=team \\\n",
      "    -Drtenv=PAT_RT_REPORT_CLEANUP=skip stencil2d-mpi.x+orig \\\n",
      "    stencil2d-mpi.x\n",
      "\n",
      "  Option file \"lite-samples\" contained:\n",
      "    -Drtenv=PAT_RT_PERFCTR=default_samp\n",
      "    -Drtenv=PAT_RT_EXPERIMENT=samp_cs_time\n",
      "    -Drtenv=PAT_RT_SAMPLING_MODE=3\n",
      "    -Dreport=y\n",
      "    -Drtenv=PAT_RT_REPORT_CMD=pat_report,-O,lite-samples,-s,summoner=rtl\n",
      "    -g upc\n",
      "    -g caf\n",
      "    -g mpi\n",
      "    -g shmem\n",
      "    -g syscall\n",
      "    -g io\n",
      "\n",
      "Instrumented program:  /users/class197/bin/myproject/./stencil2d-mpi.x\n",
      "\n",
      "Program invocation:\n",
      "  /users/class197/bin/myproject/./stencil2d-mpi.x --nx 256 --ny 256 --nz 32 --num_halo 4 --num_iter 50\n",
      "\n",
      "Exit Status:  0 for 12 PEs\n",
      "\n",
      "Memory pagesize:  4 KiB\n",
      "\n",
      "Memory hugepagesize:  Not Available\n",
      "\n",
      "Programming environment:  CRAY\n",
      "\n",
      "Runtime environment variables:\n",
      "  ATP_VERSION=3.14.5\n",
      "  CRAYPAT_LD_LIBRARY_PATH=/opt/cray/pe/gcc-libs:/opt/cray/gcc-libs:/opt/cray/pe/perftools/21.09.0/lib64\n",
      "  CRAYPAT_OPTS_EXECUTABLE=libexec64/opts\n",
      "  CRAYPAT_ROOT=/opt/cray/pe/perftools/21.09.0\n",
      "  CRAYPE_VERSION=2.7.10\n",
      "  CRAY_CRAYPE_VERSION=2.7.10\n",
      "  CRAY_CUDATOOLKIT_VERSION=11.0.2_3.38-8.1__g5b73779\n",
      "  CRAY_LIBSCI_VERSION=20.09.1\n",
      "  CRAY_MPICH_VERSION=7.7.18\n",
      "  CRAY_PERFTOOLS_VERSION=21.09.0\n",
      "  CRAY_PMI_VERSION=5.0.17\n",
      "  CRAY_PYTHON_VERSION=3.9.4.1\n",
      "  CRAY_R_VERSION=4.1.1.0\n",
      "  EBVERSIONCONFIGURABLEMINHTTPMINPROXY=4.5.0\n",
      "  EBVERSIONCRAYGNU=21.09\n",
      "  EBVERSIONGRAPHVIZ=2.50.0\n",
      "  EBVERSIONJULIA=1.6.3\n",
      "  EBVERSIONJULIAEXTENSIONS=1.6.3\n",
      "  EBVERSIONJUPYTERLAB=3.2.8\n",
      "  EBVERSIONNODEJS=16.13.2\n",
      "  GCC_VERSION=9.3.0\n",
      "  GNU_VERSION=9.3.0\n",
      "  LIBSCI_VERSION=20.09.1\n",
      "  MODULE_VERSION=3.2.11.4\n",
      "  MODULE_VERSION_STACK=3.2.11.4\n",
      "  MPICH_ABORT_ON_ERROR=1\n",
      "  MPICH_DIR=/opt/cray/pe/mpt/7.7.18/gni/mpich-gnu/8.2\n",
      "  PAT_BUILD_PAPI_LIBDIR=/opt/cray/pe/papi/6.0.0.9/lib64\n",
      "  PAT_RT_EXPERIMENT=samp_cs_time\n",
      "  PAT_RT_PERFCTR=default_samp\n",
      "  PAT_RT_REPORT_CLEANUP=skip\n",
      "  PAT_RT_REPORT_CMD=pat_report,-O,lite-samples,-s,summoner=rtl\n",
      "  PAT_RT_REPORT_METHOD=team\n",
      "  PAT_RT_SAMPLING_MODE=3\n",
      "  PERFTOOLS_VERSION=21.09.0\n",
      "  PMI_CONTROL_PORT=32330\n",
      "  PMI_CRAY_NO_SMP_ORDER=0\n",
      "  PMI_GNI_COOKIE=151977984:167116800\n",
      "  PMI_GNI_DEV_ID=0\n",
      "  PMI_GNI_LOC_ADDR=6407:6407\n",
      "  PMI_GNI_PTAG=188:189\n",
      "  PMI_NO_FORK=1\n",
      "\n",
      "Report time environment variables:\n",
      "    CRAYPAT_ROOT=/opt/cray/pe/perftools/21.09.0\n",
      "\n",
      "Number of MPI control variables collected:  108\n",
      "\n",
      "  (To see the list, specify: -s mpi_cvar=show)\n",
      "\n",
      "Report command line options:  -O calltree+src\n",
      "\n",
      "Operating system:\n",
      "  Linux 5.3.18-24.46_6.0.29-cray_ari_c #1 SMP Mon Mar 14 09:11:41 UTC 2022 (6c38a31)\n",
      "\n",
      "Hardware performance counter events:\n",
      "   UNHALTED_REFERENCE_CYCLES                      Unhalted reference cycles\n",
      "   CPU_CLK_THREAD_UNHALTED:THREAD_P               Count core clock cycles whenever the clock signal on the specificcore is running (not halted):Cycles when thread is not halted\n",
      "   DTLB_LOAD_MISSES:WALK_DURATION                 Data TLB load misses:Cycles when PMH is busy with page walks\n",
      "   INST_RETIRED:ANY_P                             Number of instructions retired (Precise Event):Number of instructions retired. General Counter - architectural event\n",
      "   RESOURCE_STALLS:ANY                            Cycles Allocation is stalled due to Resource Related reason:Cycles Allocation is stalled due to Resource Related reason\n",
      "   OFFCORE_RESPONSE_0:ANY_REQUEST:L3_MISS_LOCAL   Offcore response event (must provide at least one request type andeither any_response or any combination of supplier + snoop):Request: combination of all request umasks:Supplier: counts L3 misses to local DRAM\n",
      "   OFFCORE_RESPONSE_1:ANY_REQUEST:L3_MISS_REMOTE  Offcore response event (must provide at least one request type andeither any_response or any combination of supplier + snoop):Request: combination of all request umasks:Supplier: counts L3 misses to remote node\n",
      "\n"
     ]
    }
   ],
   "source": [
    "%%bash\n",
    "pat_report -O calltree+src /users/class197/bin/myproject/stencil3d-mpi.x+10526-4871s"
   ]
  },
  {
   "cell_type": "code",
   "execution_count": 5,
   "id": "feb6173d-421e-438e-ac1d-3de50001333b",
   "metadata": {
    "tags": []
   },
   "outputs": [
    {
     "name": "stdout",
     "output_type": "stream",
     "text": [
      "CrayPat/X:  Version 21.09.0 Revision b02949528  08/17/21 03:14:02\n",
      "\n",
      "Number of PEs (MPI ranks):   12\n",
      "                           \n",
      "Numbers of PEs per Node:      6  PEs on each of  2  Nodes\n",
      "                           \n",
      "Numbers of Threads per PE:    1\n",
      "                           \n",
      "Number of Cores per Socket:  12\n",
      "\n",
      "Accelerator Model: Nvidia P100-PCIE-16GB Memory: 16.00 GB Frequency: 1.19 GHz\n",
      "\n",
      "Accelerator Driver Version: 470.57.2\n",
      "\n",
      "Execution start time:  Sat Sep 24 20:10:02 2022\n",
      "\n",
      "System name and speed:  nid04872  2.984 GHz (nominal)\n",
      "\n",
      "Intel Haswell              CPU  Family:  6  Model: 63  Stepping:  2\n",
      "\n",
      "DRAM:  64 GiB DDR4-2400 on 2.6 GHz nodes\n",
      "\n",
      "\n",
      "Current path to data file:\n",
      "  /users/class197/bin/myproject/stencil2d-mpi.x+22636-4872s   (RTS, 12 data files)\n",
      "\n"
     ]
    },
    {
     "name": "stderr",
     "output_type": "stream",
     "text": [
      "Processing step 1 of 15\n",
      "Suggested trace options file:   /users/class197/bin/myproject/stencil2d-mpi.x+22636-4872s/build-options.apa\n",
      "\n"
     ]
    },
    {
     "name": "stdout",
     "output_type": "stream",
     "text": [
      "\n",
      "Notes for table 1:\n",
      "\n",
      "  This table shows functions that have significant exclusive sample\n",
      "    hits, averaged across ranks.\n",
      "  For further explanation, see the \"General table notes\" below,\n",
      "    or use:  pat_report -v -O samp_profile ...\n",
      "\n",
      "Table 1:  Profile by Function\n",
      "\n",
      "  Samp% |  Samp | Imb. |  Imb. | Group\n",
      "        |       | Samp | Samp% |  Function\n",
      "        |       |      |       |   PE=HIDE\n",
      "       \n",
      " 100.0% | 216.3 |   -- |    -- | Total\n",
      "|-----------------------------------------------------\n",
      "|  95.9% | 207.4 |   -- |    -- | USER\n",
      "||----------------------------------------------------\n",
      "||  91.5% | 197.9 |  8.1 |  4.3% | apply_diffusion$main_\n",
      "||   4.4% |   9.5 |  3.5 | 29.4% | update_halo$main_\n",
      "||====================================================\n",
      "|   4.1% |   8.9 |   -- |    -- | MPI\n",
      "||----------------------------------------------------\n",
      "||   3.2% |   6.8 |  4.2 | 41.3% | MPI_WAITALL\n",
      "|=====================================================\n",
      "\n",
      "Notes for table 2:\n",
      "\n",
      "  This table shows functions that have the most significant exclusive\n",
      "    time, taking the maximum time across ranks and threads.\n",
      "  For further explanation, see the \"General table notes\" below,\n",
      "    or use:  pat_report -v -O profile_max ...\n",
      "\n",
      "Table 2:  Profile of maximum function times\n",
      "\n",
      "  Samp% |  Samp | Imb. |  Imb. | Function\n",
      "        |       | Samp | Samp% |  PE=[max,min]\n",
      "|-----------------------------------------------------\n",
      "| 100.0% | 206.0 |  8.1 |  4.3% | apply_diffusion$main_\n",
      "||----------------------------------------------------\n",
      "|| 100.0% | 206.0 |   -- |    -- | pe.11\n",
      "||  95.1% | 196.0 |   -- |    -- | pe.10\n",
      "||====================================================\n",
      "|   6.3% |  13.0 |  3.5 | 29.4% | update_halo$main_\n",
      "||----------------------------------------------------\n",
      "||   6.3% |  13.0 |   -- |    -- | pe.5\n",
      "||   3.4% |   7.0 |   -- |    -- | pe.11\n",
      "||====================================================\n",
      "|   5.3% |  11.0 |  4.2 | 41.3% | MPI_WAITALL\n",
      "||----------------------------------------------------\n",
      "||   5.3% |  11.0 |   -- |    -- | pe.2\n",
      "||   0.5% |   1.0 |   -- |    -- | pe.11\n",
      "||====================================================\n",
      "|   1.0% |   2.0 |  1.6 | 86.4% | MPI_ISEND\n",
      "||----------------------------------------------------\n",
      "||   1.0% |   2.0 |   -- |    -- | pe.7\n",
      "||   0.0% |   0.0 |   -- |    -- | pe.11\n",
      "||====================================================\n",
      "|   1.0% |   2.0 |  1.2 | 68.2% | mpi_wtime_\n",
      "||----------------------------------------------------\n",
      "||   1.0% |   2.0 |   -- |    -- | pe.3\n",
      "||   0.0% |   0.0 |   -- |    -- | pe.11\n",
      "||====================================================\n",
      "|   1.0% |   2.0 |  1.5 | 81.8% | mpi_isend_\n",
      "||----------------------------------------------------\n",
      "||   1.0% |   2.0 |   -- |    -- | pe.4\n",
      "||   0.0% |   0.0 |   -- |    -- | pe.10\n",
      "|=====================================================\n",
      "\n",
      "Observation:  MPI Grid Detection\n",
      "\n",
      "    A 4x3 grid pattern was detected in sent message traffic.  Because only\n",
      "    4.1% of the total execution time was spent in MPI functions, modifying\n",
      "    the rank order is unlikely to significantly improve overall performance.\n",
      "\n",
      "\n",
      "Observation:  Metric-Based Rank Order\n",
      "\n",
      "    No rank order was suggested based on the USER Samp metric because\n",
      "    that metric was already well balanced across the nodes.\n",
      "\n",
      "\n",
      "Observation:  Stall Cycles\n",
      "\n",
      "    Stall cycles are 79.4% of total cycles, which exceeds the guideline\n",
      "    of 40.0%. This can be caused by issues in the program such as\n",
      "    saturation of memory bandwidth.\n",
      "\n",
      "\n",
      "Observation:  Program sensitivity to memory latency\n",
      "\n",
      "    The relatively low memory bandwidth utilization but significant rate\n",
      "    of stalls in the program suggest that its performance is limited by\n",
      "    memory latency.\n",
      "    It could be beneficial to improve prefetching in loops in functions\n",
      "    high in the profile, by modifying compiler-generated prefetches or\n",
      "    inserting directives into the source code.\n",
      "\n",
      "\n",
      "Observation:  MFLOPS not available on Intel Haswell\n",
      "\n",
      "    The document that specifies performance monitoring events for Intel\n",
      "    processors does not include events that could be used to compute a\n",
      "    count of floating point operations for Haswell processors: Intel 64\n",
      "    and IA-32 Architectures Software Developer's Manual, Order Number\n",
      "    253665-050US, February 2014.\n",
      "\n",
      "\n",
      "Notes for table 3:\n",
      "\n",
      "  This table shows functions, and line numbers within functions, that\n",
      "    have significant exclusive sample hits, averaged across ranks.\n",
      "  For further explanation, see the \"General table notes\" below,\n",
      "    or use:  pat_report -v -O samp_profile+src ...\n",
      "\n",
      "Table 3:  Profile by Group, Function, and Line\n",
      "\n",
      "  Samp% |  Samp | Imb. |  Imb. | Group\n",
      "        |       | Samp | Samp% |  Function\n",
      "        |       |      |       |   Source\n",
      "        |       |      |       |    Line\n",
      "        |       |      |       |     PE=HIDE\n",
      "       \n",
      " 100.0% | 216.3 |   -- |    -- | Total\n",
      "|------------------------------------------------------------------------\n",
      "|  95.9% | 207.4 |   -- |    -- | USER\n",
      "||-----------------------------------------------------------------------\n",
      "||  91.5% | 197.9 |   -- |    -- | apply_diffusion$main_\n",
      "3|        |       |      |       |  class197/bin/myproject/stencil2d-mpi.F90\n",
      "||||---------------------------------------------------------------------\n",
      "4|||  23.2% |  50.1 |  8.9 | 16.5% | line.174\n",
      "4|||  25.0% |  54.0 |  6.0 | 10.9% | line.175\n",
      "4|||  27.8% |  60.1 |  4.9 |  8.3% | line.183\n",
      "4|||  14.7% |  31.8 |  6.2 | 17.9% | line.193\n",
      "||||=====================================================================\n",
      "||   4.4% |   9.5 |   -- |    -- | update_halo$main_\n",
      "3|        |       |      |       |  class197/bin/myproject/stencil2d-mpi.F90\n",
      "4|   1.3% |   2.8 |  3.2 | 59.1% |   line.364\n",
      "||=======================================================================\n",
      "|   4.1% |   8.9 |   -- |    -- | MPI\n",
      "||-----------------------------------------------------------------------\n",
      "||   3.2% |   6.8 |  4.2 | 41.3% | MPI_WAITALL\n",
      "|========================================================================\n",
      "\n",
      "Notes for table 4:\n",
      "\n",
      "  This table shows HW performance counter data for the whole program,\n",
      "    averaged across ranks or threads, as applicable.\n",
      "  For further explanation, see the \"General table notes\" below,\n",
      "    or use:  pat_report -v -O hwpc ...\n",
      "\n",
      "Table 4:  Program HW Performance Counter Data\n",
      "\n",
      "PE=HIDE\n",
      "\n",
      "  \n",
      "==============================================================================\n",
      "  Total\n",
      "------------------------------------------------------------------------------\n",
      "  Thread Time                                           2.403275 secs\n",
      "  UNHALTED_REFERENCE_CYCLES                        6,058,785,226 \n",
      "  CPU_CLK_THREAD_UNHALTED:THREAD_P                 7,007,570,796 \n",
      "  DTLB_LOAD_MISSES:WALK_DURATION                      73,979,104 \n",
      "  INST_RETIRED:ANY_P                               4,410,826,856 \n",
      "  RESOURCE_STALLS:ANY                              5,560,828,282 \n",
      "  OFFCORE_RESPONSE_0:ANY_REQUEST:L3_MISS_LOCAL        71,463,256 \n",
      "  CPU CLK Boost                                             1.16 X\n",
      "  Resource stall cycles / Cycles                           79.4% \n",
      "  Memory traffic GBytes                     1.903G/sec      4.57 GB\n",
      "  Local Memory traffic GBytes               1.903G/sec      4.57 GB\n",
      "  Memory Traffic / Nominal Peak                             3.1% \n",
      "  DTLB Miss Ovhd                                      73,979,104 cycles  1.1% cycles\n",
      "  Retired Inst per Clock                                    0.63 \n",
      "==============================================================================\n",
      "\n",
      "Notes for table 5:\n",
      "\n",
      "  This table shows energy and power usage for the nodes with the\n",
      "    maximum, mean, and minimum usage, as well as the sum of usage over\n",
      "    all nodes.\n",
      "    Energy and power for accelerators is also shown, if applicable.\n",
      "  For further explanation, see the \"General table notes\" below,\n",
      "    or use:  pat_report -v -O program_energy ...\n",
      "\n",
      "Table 5:  Program energy and power usage (from Cray PM)\n",
      "\n",
      "   Node |     Node |  Process | Node Id\n",
      " Energy |    Power |     Time |  PE=HIDE\n",
      "    (J) |      (W) |          | \n",
      "       \n",
      " 661.67 |  272.665 | 2.426668 | Total\n",
      "|---------------------------------------\n",
      "|    331 |  136.971 | 2.416568 | nid.4873\n",
      "| 330.67 |  135.699 | 2.436769 | nid.4872\n",
      "|=======================================\n",
      "\n",
      "Notes for table 6:\n",
      "\n",
      "  This table shows memory traffic for numa nodes, taking for each numa\n",
      "    node the maximum value across nodes. It also shows the balance in\n",
      "    memory traffic by showing the top 3 and bottom 3 node values.\n",
      "  For further explanation, see the \"General table notes\" below,\n",
      "    or use:  pat_report -v -O mem_bw ...\n",
      "\n",
      "Table 6:  Memory Bandwidth by Numanode\n",
      "\n",
      "   Memory |    Local |   Thread |  Memory |  Memory | Numanode\n",
      "  Traffic |   Memory |     Time | Traffic | Traffic |  Node Id\n",
      "   GBytes |  Traffic |          |  GBytes |       / |   PE=HIDE\n",
      "          |   GBytes |          |   / Sec | Nominal | \n",
      "          |          |          |         |    Peak | \n",
      "|---------------------------------------------------------------\n",
      "|    27.50 |    27.50 | 2.534565 |   10.85 |   15.9% | numanode.0\n",
      "||--------------------------------------------------------------\n",
      "||    27.50 |    27.50 | 2.534565 |   10.85 |   15.9% | nid.4872\n",
      "||    27.38 |    27.38 | 2.407463 |   11.37 |   16.7% | nid.4873\n",
      "|===============================================================\n"
     ]
    },
    {
     "name": "stderr",
     "output_type": "stream",
     "text": [
      "Processing step 15 of 15\n"
     ]
    },
    {
     "name": "stdout",
     "output_type": "stream",
     "text": [
      "\n",
      "Notes for table 7:\n",
      "\n",
      "  This table shows total wall clock time for the ranks with the\n",
      "    maximum, mean, and minimum time, as well as the average across\n",
      "    ranks.\n",
      "    It also shows maximum memory usage from /proc/self/numa_maps for\n",
      "    those ranks, and on average.  The usage is total size of all\n",
      "    pages, including huge pages, that were actually mapped into\n",
      "    physical memory from both private and shared memory segments.\n",
      "  For further explanation, see the \"General table notes\" below,\n",
      "    or use:  pat_report -v -O program_time ...\n",
      "\n",
      "Table 7:  Wall Clock Time, Memory High Water Mark\n",
      "\n",
      "  Process |   Process | PE=[mmm]\n",
      "     Time |     HiMem | \n",
      "          | (MiBytes) | \n",
      "         \n",
      " 2.426668 |     112.0 | Total\n",
      "|-------------------------------\n",
      "| 2.558689 |     300.1 | pe.0\n",
      "| 2.408207 |      92.8 | pe.9\n",
      "| 2.407531 |      92.9 | pe.1\n",
      "|===============================\n",
      "\n",
      "========================  Additional details  ========================\n",
      "\n",
      "\n",
      "\n",
      "General table notes:\n",
      "\n",
      "    The default notes for a table are based on the default definition of\n",
      "    the table, and do not account for the effects of command-line options\n",
      "    that may modify the content of the table.\n",
      "    \n",
      "    Detailed notes, produced by the pat_report -v option, do account for\n",
      "    all command-line options, and also show how data is aggregated, and\n",
      "    if the table content is limited by thresholds, rank selections, etc.\n",
      "    \n",
      "    An imbalance metric in a line is based on values in main threads\n",
      "    across multiple ranks, or on values across all threads, as applicable.\n",
      "    \n",
      "    An imbalance percent in a line is relative to the maximum value\n",
      "    for that line across ranks or threads, as applicable.\n",
      "    \n",
      "Experiment:  samp_cs_time\n",
      "\n",
      "Sampling interval:  10000 microsecs\n",
      "\n",
      "Original path to data file:\n",
      "  /users/class197/bin/myproject/stencil2d-mpi.x+22636-4872s/xf-files   (RTS, 12 data files)\n",
      "\n",
      "Original program:  /users/class197/bin/myproject/stencil2d-mpi.x+orig\n",
      "\n",
      "Instrumented with:\n",
      "  pat_build -f -O lite-samples -Drtenv=PAT_RT_REPORT_METHOD=team \\\n",
      "    -Drtenv=PAT_RT_REPORT_CLEANUP=skip stencil2d-mpi.x+orig \\\n",
      "    stencil2d-mpi.x\n",
      "\n",
      "  Option file \"lite-samples\" contained:\n",
      "    -Drtenv=PAT_RT_PERFCTR=default_samp\n",
      "    -Drtenv=PAT_RT_EXPERIMENT=samp_cs_time\n",
      "    -Drtenv=PAT_RT_SAMPLING_MODE=3\n",
      "    -Dreport=y\n",
      "    -Drtenv=PAT_RT_REPORT_CMD=pat_report,-O,lite-samples,-s,summoner=rtl\n",
      "    -g upc\n",
      "    -g caf\n",
      "    -g mpi\n",
      "    -g shmem\n",
      "    -g syscall\n",
      "    -g io\n",
      "\n",
      "Instrumented program:  /users/class197/bin/myproject/./stencil2d-mpi.x\n",
      "\n",
      "Program invocation:\n",
      "  /users/class197/bin/myproject/./stencil2d-mpi.x --nx 512 --ny 512 --nz 32 --num_halo 2 --num_iter 500\n",
      "\n",
      "Exit Status:  0 for 12 PEs\n",
      "\n",
      "Memory pagesize:  4 KiB\n",
      "\n",
      "Memory hugepagesize:  Not Available\n",
      "\n",
      "Programming environment:  CRAY\n",
      "\n",
      "Runtime environment variables:\n",
      "  ATP_VERSION=3.14.5\n",
      "  CRAYPAT_LD_LIBRARY_PATH=/opt/cray/pe/gcc-libs:/opt/cray/gcc-libs:/opt/cray/pe/perftools/21.09.0/lib64\n",
      "  CRAYPAT_OPTS_EXECUTABLE=libexec64/opts\n",
      "  CRAYPAT_ROOT=/opt/cray/pe/perftools/21.09.0\n",
      "  CRAYPE_VERSION=2.7.10\n",
      "  CRAY_CRAYPE_VERSION=2.7.10\n",
      "  CRAY_CUDATOOLKIT_VERSION=11.0.2_3.38-8.1__g5b73779\n",
      "  CRAY_LIBSCI_VERSION=20.09.1\n",
      "  CRAY_MPICH_VERSION=7.7.18\n",
      "  CRAY_PERFTOOLS_VERSION=21.09.0\n",
      "  CRAY_PMI_VERSION=5.0.17\n",
      "  CRAY_PYTHON_VERSION=3.9.4.1\n",
      "  CRAY_R_VERSION=4.1.1.0\n",
      "  EBVERSIONCONFIGURABLEMINHTTPMINPROXY=4.5.0\n",
      "  EBVERSIONCRAYGNU=21.09\n",
      "  EBVERSIONGRAPHVIZ=2.50.0\n",
      "  EBVERSIONJULIA=1.6.3\n",
      "  EBVERSIONJULIAEXTENSIONS=1.6.3\n",
      "  EBVERSIONJUPYTERLAB=3.2.8\n",
      "  EBVERSIONNODEJS=16.13.2\n",
      "  GCC_VERSION=9.3.0\n",
      "  GNU_VERSION=9.3.0\n",
      "  LIBSCI_VERSION=20.09.1\n",
      "  MODULE_VERSION=3.2.11.4\n",
      "  MODULE_VERSION_STACK=3.2.11.4\n",
      "  MPICH_ABORT_ON_ERROR=1\n",
      "  MPICH_DIR=/opt/cray/pe/mpt/7.7.18/gni/mpich-gnu/8.2\n",
      "  PAT_BUILD_PAPI_LIBDIR=/opt/cray/pe/papi/6.0.0.9/lib64\n",
      "  PAT_RT_EXPERIMENT=samp_cs_time\n",
      "  PAT_RT_PERFCTR=default_samp\n",
      "  PAT_RT_REPORT_CLEANUP=skip\n",
      "  PAT_RT_REPORT_CMD=pat_report,-O,lite-samples,-s,summoner=rtl\n",
      "  PAT_RT_REPORT_METHOD=team\n",
      "  PAT_RT_SAMPLING_MODE=3\n",
      "  PERFTOOLS_VERSION=21.09.0\n",
      "  PMI_CONTROL_PORT=20694\n",
      "  PMI_CRAY_NO_SMP_ORDER=0\n",
      "  PMI_GNI_COOKIE=1979383808:2020409344\n",
      "  PMI_GNI_DEV_ID=0\n",
      "  PMI_GNI_LOC_ADDR=6408:6408\n",
      "  PMI_GNI_PTAG=172:173\n",
      "  PMI_NO_FORK=1\n",
      "\n",
      "Report time environment variables:\n",
      "    CRAYPAT_ROOT=/opt/cray/pe/perftools/21.09.0\n",
      "\n",
      "Number of MPI control variables collected:  108\n",
      "\n",
      "  (To see the list, specify: -s mpi_cvar=show)\n",
      "\n",
      "Report command line options:  <none>\n",
      "\n",
      "Operating system:\n",
      "  Linux 5.3.18-24.46_6.0.29-cray_ari_c #1 SMP Mon Mar 14 09:11:41 UTC 2022 (6c38a31)\n",
      "\n",
      "Hardware performance counter events:\n",
      "   UNHALTED_REFERENCE_CYCLES                      Unhalted reference cycles\n",
      "   CPU_CLK_THREAD_UNHALTED:THREAD_P               Count core clock cycles whenever the clock signal on the specificcore is running (not halted):Cycles when thread is not halted\n",
      "   DTLB_LOAD_MISSES:WALK_DURATION                 Data TLB load misses:Cycles when PMH is busy with page walks\n",
      "   INST_RETIRED:ANY_P                             Number of instructions retired (Precise Event):Number of instructions retired. General Counter - architectural event\n",
      "   RESOURCE_STALLS:ANY                            Cycles Allocation is stalled due to Resource Related reason:Cycles Allocation is stalled due to Resource Related reason\n",
      "   OFFCORE_RESPONSE_0:ANY_REQUEST:L3_MISS_LOCAL   Offcore response event (must provide at least one request type andeither any_response or any combination of supplier + snoop):Request: combination of all request umasks:Supplier: counts L3 misses to local DRAM\n",
      "   OFFCORE_RESPONSE_1:ANY_REQUEST:L3_MISS_REMOTE  Offcore response event (must provide at least one request type andeither any_response or any combination of supplier + snoop):Request: combination of all request umasks:Supplier: counts L3 misses to remote node\n",
      "\n"
     ]
    }
   ],
   "source": [
    "%%bash\n",
    "pat_report /users/class197/bin/myproject/stencil3d-mpi.x+22636-4872s"
   ]
  },
  {
   "cell_type": "code",
   "execution_count": 157,
   "id": "088f899d-8991-465b-bb5e-7674f053f728",
   "metadata": {},
   "outputs": [],
   "source": [
    "num_ranks=np.array([2,4,8,12,16])\n",
    "#num_ranks=np.array([2,4])\n",
    "runtimes=[]\n",
    "runtimes_mean=[]\n",
    "runtimes_std=[]\n",
    "\n",
    "for i in num_ranks:\n",
    "    output = !srun -n {i} ./stencil3d-mpi.x+orig --nx 64 --ny 64 --nz 32 --num_iter 100 --num_halo 2\n",
    "    df = np.asarray(output)\n",
    "    df = [ast.literal_eval(i) for i in df.tolist()]\n",
    "    df=np.asarray(df)\n",
    "    runtimes.append(df[:,5].tolist())\n",
    "\n",
    "for j in range(len(num_ranks)):\n",
    "    runtimes_mean.append(np.mean(runtimes[j]))\n",
    "    runtimes_std.append(np.std(runtimes[j]))\n",
    "\n"
   ]
  },
  {
   "cell_type": "code",
   "execution_count": 19,
   "id": "9e8d71c3-1ce5-4435-bac7-c72d1cce03a4",
   "metadata": {},
   "outputs": [],
   "source": [
    "df_plot = pd.read_csv ('dataframes/big_df.csv')\n",
    "for i in np.arange(0,14):\n",
    "    for j in np.array([4,9,12,16,20]):\n",
    "        df_plot.at[i,str(j)]=ast.literal_eval(df_plot.at[i,str(j)])"
   ]
  },
  {
   "cell_type": "code",
   "execution_count": null,
   "id": "50b21cd2-a7b9-495e-9a7f-0001dc165ef2",
   "metadata": {
    "tags": []
   },
   "outputs": [],
   "source": []
  },
  {
   "cell_type": "code",
   "execution_count": null,
   "id": "b064b751-1455-42fb-aea5-9fc01f65e367",
   "metadata": {
    "tags": []
   },
   "outputs": [],
   "source": []
  },
  {
   "cell_type": "code",
   "execution_count": 3,
   "id": "3a829b5c-dc85-48a9-8c2f-a2ad8f13f62f",
   "metadata": {},
   "outputs": [],
   "source": [
    "#run this cell to plot data from dataframe\n",
    "num_ranks=np.array([2,4,6,8,10,12,14,16,18,20])\n",
    "num_halos=np.arange(2,16)\n",
    "\n",
    "df2_plot = pd.read_csv ('dataframes/big_df3.csv')\n",
    "for i in num_halos:\n",
    "    for j in num_ranks:\n",
    "        df2_plot.at[i-2,str(j)]=ast.literal_eval(df2_plot.at[i-2,str(j)])\n",
    "\n",
    "z_tot=[]    \n",
    "for i in num_ranks: \n",
    "    y=[]\n",
    "    for j in num_halos:\n",
    "        z_tot.append(df2_plot.loc[j-2][str(i)][0][1])\n",
    "    #z_tot.append(y)\n",
    "    #plt.plot(num_ranks, y)"
   ]
  },
  {
   "cell_type": "code",
   "execution_count": null,
   "id": "0d921143-68fd-46e4-934f-2a2e7df77568",
   "metadata": {
    "collapsed": true,
    "jupyter": {
     "outputs_hidden": true
    },
    "tags": []
   },
   "outputs": [],
   "source": []
  },
  {
   "cell_type": "code",
   "execution_count": 7,
   "id": "9af63306-4180-4660-b30d-abf7e7020669",
   "metadata": {
    "tags": []
   },
   "outputs": [
    {
     "data": {
      "image/png": "[encoded data removed]",
      "text/plain": [
       "<Figure size 432x288 with 1 Axes>"
      ]
     },
     "metadata": {
      "needs_background": "light"
     },
     "output_type": "display_data"
    }
   ],
   "source": [
    "for j in num_halos:  \n",
    "    y=[]\n",
    "    for i in num_ranks:\n",
    "        y.append((df2_plot.loc[j-2][str(i)][0][0]-df2_plot.loc[j-2][str(i)][0][1])*i)\n",
    "\n",
    "    plt.plot(num_ranks, y,'.')"
   ]
  },
  {
   "cell_type": "code",
   "execution_count": 27,
   "id": "b7778788-f8f0-4983-8922-4ff6b928590a",
   "metadata": {},
   "outputs": [],
   "source": [
    "#model assuming that we are memory bound\n",
    "def runtime(p, num_halo, alpha, beta_between_ranks):\n",
    "    num_iter=500\n",
    "    nx=64\n",
    "    ny=64\n",
    "    nz=32\n",
    "    nx=nx/np.sqrt(p)\n",
    "    ny=ny/np.sqrt(p)\n",
    "    #alpha=1/500\n",
    "    #beta_between_ranks=1/100\n",
    "    beta_within_ranks=[1/68.3,1/77.5,1/155,1/155]\n",
    "    cachesize=[32e3,256e3,30e6]\n",
    "    lat_cache=np.array([4,15,51,151])/3e9\n",
    "    T_comm=4*alpha + 4*(2*nx*num_halo+2*(ny+2*num_halo)*num_halo)*nz*beta_between_ranks\n",
    "    for i in range(len(cachesize)):\n",
    "        if 4*nx*ny*nz/p<cachesize[i]:\n",
    "            T_per_rank=lat_cache[i]*nx*ny*nz/p #+ beta_within_ranks[i]*nx*ny*nz/p\n",
    "        \n",
    "        elif i==2:\n",
    "            T_per_rank=lat_cache[3]*nx*ny*nz/p #+ beta_within_ranks[i]*nx*ny*nz/p\n",
    "    T=num_iter*(T_comm+T_per_rank)\n",
    "    \n",
    "    return T_comm,T_per_rank, T\n",
    "\n",
    "\n",
    "#alpha is overhead at sender/receiver + latency (2o + l)\n",
    "def runtime_halo_update(X, alpha, beta_between_ranks):\n",
    "    num_ranks,num_halo=X\n",
    "    num_iter=500\n",
    "    nx=64\n",
    "    ny=64\n",
    "    nz=32\n",
    "    nx=nx/np.sqrt(num_ranks)\n",
    "    ny=ny/np.sqrt(num_ranks)\n",
    "    #alpha=1/500\n",
    "    #beta_between_ranks=1/100\n",
    "    #beta_within_ranks=[1/68.3,1/77.5,1/155,1/155]\n",
    "    #cachesize=[32e3,256e3,30e6]\n",
    "    #lat_cache=np.array([4,15,51,151])/3e9\n",
    "    T_comm=[]\n",
    "    for h,p in zip(range(len(num_ranks)),range(len(num_halo))):\n",
    "        T_comm_p=num_iter*(4*alpha + 4*(2*nx[p]*num_halo[h]+2*(ny[p]+2*num_halo[h])*num_halo[h])*nz*beta_between_ranks)\n",
    "        T_comm.append(T_comm_p.tolist())\n",
    "    #T_comm=[item for sublist in T_comm for item in sublist]\n",
    "    return T_comm\n",
    "\n",
    "def runtime_halo_update_0(num_halo, alpha, beta_between_ranks, p):\n",
    "    #p=6\n",
    "    num_iter=500\n",
    "    nx=64\n",
    "    ny=64\n",
    "    nz=32\n",
    "    nx=nx/np.sqrt(p)\n",
    "    ny=ny/np.sqrt(p)\n",
    "    #alpha=1/500\n",
    "    #beta_between_ranks=1/100\n",
    "    #beta_within_ranks=[1/68.3,1/77.5,1/155,1/155]\n",
    "    #cachesize=[32e3,256e3,30e6]\n",
    "    #lat_cache=np.array([4,15,51,151])/3e9\n",
    "    T_comm=4*alpha*np.log(p) + 4*(2*nx*num_halo+2*(ny+2*num_halo)*num_halo)*nz*beta_between_ranks\n",
    "    T_comm=num_iter*T_comm\n",
    "    return T_comm"
   ]
  },
  {
   "cell_type": "code",
   "execution_count": 123,
   "id": "7ec96991-2035-425f-9694-8f5995a2a5f2",
   "metadata": {},
   "outputs": [],
   "source": [
    "y=[]\n",
    "for j in num_halos:\n",
    "    y.append(df2_plot.loc[j-2][str(6)][0][1])\n",
    "coeff, cov =curve_fit(runtime_halo_update_0, np.arange(2,16), y)"
   ]
  },
  {
   "cell_type": "code",
   "execution_count": 102,
   "id": "9d7b9400-81b2-4063-a877-46afb6883c5c",
   "metadata": {},
   "outputs": [
    {
     "data": {
      "text/plain": [
       "[<matplotlib.lines.Line2D at 0x15549b54f1c0>]"
      ]
     },
     "execution_count": 102,
     "metadata": {},
     "output_type": "execute_result"
    },
    {
     "data": {
      "image/png": "[encoded data removed]",
      "text/plain": [
       "<Figure size 432x288 with 1 Axes>"
      ]
     },
     "metadata": {
      "needs_background": "light"
     },
     "output_type": "display_data"
    }
   ],
   "source": [
    "plt.plot(num_ranks,runtime_halo_update_0(8, coeff[0], coeff[1], num_ranks))\n",
    "\n",
    "\n",
    "y=[]\n",
    "for j in num_ranks:\n",
    "    y.append(df2_plot.loc[8-2][str(j)][0][1])\n",
    "\n",
    "plt.plot(num_ranks, y,'.')\n"
   ]
  },
  {
   "cell_type": "code",
   "execution_count": 22,
   "id": "01b16f92-92e9-4f20-8237-70dcea5759e5",
   "metadata": {
    "collapsed": true,
    "jupyter": {
     "outputs_hidden": true
    },
    "tags": []
   },
   "outputs": [
    {
     "data": {
      "text/plain": [
       "[0.024123788,\n",
       " 0.016086811,\n",
       " 0.021389726,\n",
       " 0.016808887,\n",
       " 0.016451388,\n",
       " 0.01569897,\n",
       " 0.016471208,\n",
       " 0.016686469000000002,\n",
       " 0.014178931999999997,\n",
       " 0.0140029037,\n",
       " 0.033761155,\n",
       " 0.022284842000000003,\n",
       " 0.025120067000000003,\n",
       " 0.020444539,\n",
       " 0.019542382,\n",
       " 0.019017447,\n",
       " 0.021805247,\n",
       " 0.019646168,\n",
       " 0.019829659,\n",
       " 0.015618580000000002,\n",
       " 0.038085378,\n",
       " 0.026332723000000002,\n",
       " 0.027369215000000002,\n",
       " 0.022265568000000003,\n",
       " 0.024605746,\n",
       " 0.023934122,\n",
       " 0.024585768,\n",
       " 0.022290543,\n",
       " 0.028488583,\n",
       " 0.026305811000000002,\n",
       " 0.045867228,\n",
       " 0.033375663,\n",
       " 0.032254715,\n",
       " 0.02655881,\n",
       " 0.028950917000000003,\n",
       " 0.028113252,\n",
       " 0.025972298000000005,\n",
       " 0.027566113999999996,\n",
       " 0.026151725999999997,\n",
       " 0.030720151999999994,\n",
       " 0.052645717999999994,\n",
       " 0.040043569999999994,\n",
       " 0.036784463,\n",
       " 0.031572402,\n",
       " 0.034359288,\n",
       " 0.034737704,\n",
       " 0.034905737,\n",
       " 0.032134481000000006,\n",
       " 0.034740937000000006,\n",
       " 0.031902897,\n",
       " 0.059203792,\n",
       " 0.046539515,\n",
       " 0.042372957999999995,\n",
       " 0.035823034000000004,\n",
       " 0.03663383300000001,\n",
       " 0.036170256,\n",
       " 0.038036049,\n",
       " 0.034764984,\n",
       " 0.035977946999999996,\n",
       " 0.034071578000000005,\n",
       " 0.04625442,\n",
       " 0.038551414000000006,\n",
       " 0.036695396000000005,\n",
       " 0.033705163,\n",
       " 0.031452759000000004,\n",
       " 0.03427835,\n",
       " 0.033727056000000005,\n",
       " 0.031081512,\n",
       " 0.029293198,\n",
       " 0.03832237100000001,\n",
       " 0.06347115,\n",
       " 0.052706216999999986,\n",
       " 0.048204064,\n",
       " 0.041755414000000005,\n",
       " 0.042608507000000004,\n",
       " 0.044676004,\n",
       " 0.039896543,\n",
       " 0.03864116200000001,\n",
       " 0.042747097,\n",
       " 0.039586093,\n",
       " 0.070318186,\n",
       " 0.05840499400000001,\n",
       " 0.052871371,\n",
       " 0.04994976799999999,\n",
       " 0.04469748900000001,\n",
       " 0.04605825299999999,\n",
       " 0.04383309999999999,\n",
       " 0.046613282,\n",
       " 0.043466527000000005,\n",
       " 0.043124327,\n",
       " 0.07745446,\n",
       " 0.064715822,\n",
       " 0.05985826599999999,\n",
       " 0.051606173,\n",
       " 0.05044528,\n",
       " 0.046874173,\n",
       " 0.050759249000000006,\n",
       " 0.048702385,\n",
       " 0.049493829,\n",
       " 0.046206925999999995,\n",
       " 0.081667709,\n",
       " 0.07077353,\n",
       " 0.063078232,\n",
       " 0.05623931299999999,\n",
       " 0.055433091999999996,\n",
       " 0.054638562,\n",
       " 0.05450899099999999,\n",
       " 0.05586854300000001,\n",
       " 0.051023348,\n",
       " 0.05540364099999999,\n",
       " 0.09225469800000001,\n",
       " 0.076689808,\n",
       " 0.072567356,\n",
       " 0.064268851,\n",
       " 0.064026309,\n",
       " 0.05801770500000001,\n",
       " 0.06250747300000001,\n",
       " 0.064457556,\n",
       " 0.059977210999999996,\n",
       " 0.05673512999999999,\n",
       " 0.09809446499999999,\n",
       " 0.083317052,\n",
       " 0.077221056,\n",
       " 0.06797731300000001,\n",
       " 0.069984012,\n",
       " 0.06520923199999999,\n",
       " 0.06835145900000002,\n",
       " 0.067959129,\n",
       " 0.066696659,\n",
       " 0.059752616,\n",
       " 0.10605474999999998,\n",
       " 0.094028025,\n",
       " 0.084639855,\n",
       " 0.077633163,\n",
       " 0.075211387,\n",
       " 0.07042886500000001,\n",
       " 0.073763607,\n",
       " 0.075990481,\n",
       " 0.070997046,\n",
       " 0.066688109]"
      ]
     },
     "execution_count": 22,
     "metadata": {},
     "output_type": "execute_result"
    }
   ],
   "source": [
    "z_tot"
   ]
  },
  {
   "cell_type": "code",
   "execution_count": null,
   "id": "3d4e4c10-ba57-4893-a612-766dab7e8d58",
   "metadata": {},
   "outputs": [],
   "source": []
  },
  {
   "cell_type": "code",
   "execution_count": null,
   "id": "1ad2214e-e82b-4301-9ac4-fd5cbb4ad6ff",
   "metadata": {},
   "outputs": [],
   "source": []
  },
  {
   "cell_type": "code",
   "execution_count": null,
   "id": "6843fcdb-37a6-4947-8a61-4054f05dff82",
   "metadata": {},
   "outputs": [],
   "source": []
  },
  {
   "cell_type": "code",
   "execution_count": 57,
   "id": "9ac7fea3-c520-4e05-85f5-01f6c8eba4d0",
   "metadata": {
    "tags": []
   },
   "outputs": [
    {
     "data": {
      "text/plain": [
       "array([[ 9.79242859e-14, -1.91416008e-18],\n",
       "       [-1.91416008e-18,  5.30973409e-23]])"
      ]
     },
     "execution_count": 57,
     "metadata": {},
     "output_type": "execute_result"
    }
   ],
   "source": [
    "cov"
   ]
  },
  {
   "cell_type": "code",
   "execution_count": 32,
   "id": "5a6eefa3-ef2f-4411-810e-9895e43a5d38",
   "metadata": {},
   "outputs": [],
   "source": [
    "from scipy.optimize import curve_fit\n",
    "num_ranks=np.array([2,4,6,8,10,12,14,16,18,20])\n",
    "p=[]\n",
    "num_r=num_ranks.tolist()\n",
    "for i in range(len(num_r)):\n",
    "    p.append(14*num_r[i:i+1])\n",
    "p=[item for sublist in p for item in sublist]\n",
    "y = np.array(10*num_halos.tolist())\n",
    "p0= 1/500, 1/100\n",
    "coeff, cov =curve_fit(runtime_halo_update, (p,y), np.array(z_tot))\n"
   ]
  },
  {
   "cell_type": "code",
   "execution_count": 33,
   "id": "12790edc-56b4-47de-8b21-ca74f3a92ea9",
   "metadata": {},
   "outputs": [
    {
     "data": {
      "text/plain": [
       "[<matplotlib.lines.Line2D at 0x15549f8fd1c0>]"
      ]
     },
     "execution_count": 33,
     "metadata": {},
     "output_type": "execute_result"
    },
    {
     "data": {
      "image/png": "[encoded data removed]",
      "text/plain": [
       "<Figure size 432x288 with 1 Axes>"
      ]
     },
     "metadata": {
      "needs_background": "light"
     },
     "output_type": "display_data"
    }
   ],
   "source": [
    "\n",
    "num_ranks=np.array([2,4,6,8,10,12,14,16,18,20])\n",
    "#num_ranks=14*[10]\n",
    "num_halo=10*[15]\n",
    "#num_halo=np.arange(2,16)\n",
    "X=(num_ranks, num_halo)\n",
    "plt.plot(num_ranks,runtime_halo_update(X, coeff[0], coeff[1]))\n",
    "\n",
    "y_plot=[]\n",
    "for i in num_ranks:\n",
    "    y_plot.append(df2_plot.loc[15-2][str(i)][0][1])\n",
    "\n",
    "plt.plot(num_ranks,y_plot,'.')\n"
   ]
  },
  {
   "cell_type": "code",
   "execution_count": 34,
   "id": "78126280-9a01-48e7-956c-bc25f4d2a345",
   "metadata": {},
   "outputs": [
    {
     "data": {
      "text/plain": [
       "[<matplotlib.lines.Line2D at 0x15549f852e20>]"
      ]
     },
     "execution_count": 34,
     "metadata": {},
     "output_type": "execute_result"
    },
    {
     "data": {
      "image/png": "[encoded data removed]",
      "text/plain": [
       "<Figure size 432x288 with 1 Axes>"
      ]
     },
     "metadata": {
      "needs_background": "light"
     },
     "output_type": "display_data"
    }
   ],
   "source": [
    "\n",
    "#num_ranks=np.array([2,4,6,8,10,12,14,16,18,20])\n",
    "num_ranks=14*[20]\n",
    "#num_halo=10*[12]\n",
    "num_halo=np.arange(2,16)\n",
    "X=(num_ranks, num_halo)\n",
    "plt.plot(num_halos,runtime_halo_update(X, coeff[0], coeff[1]))\n",
    "\n",
    "y_plot=[]\n",
    "for i in num_halos:\n",
    "    y_plot.append(df2_plot.loc[i-2][str(20)][0][1])\n",
    "\n",
    "plt.plot(num_halos,y_plot,'.')"
   ]
  },
  {
   "cell_type": "code",
   "execution_count": null,
   "id": "92aa808f-2d60-4b9f-8278-e71c58cbf0e8",
   "metadata": {},
   "outputs": [],
   "source": []
  },
  {
   "cell_type": "code",
   "execution_count": 41,
   "id": "06bc6817-05ad-45b7-80ae-342431973a19",
   "metadata": {},
   "outputs": [],
   "source": [
    "num_ranks=np.array([2,4,6,8,10,12,14,16,18,20])\n",
    "p=[]\n",
    "num_r=num_ranks.tolist()\n",
    "for i in range(len(num_r)):\n",
    "    p.append(14*num_r[i:i+1])\n",
    "p=[item for sublist in p for item in sublist]\n",
    "y = np.array(10*num_halos.tolist())\n",
    "X=(p,y)\n",
    "resid=np.array(z_tot)-np.array(runtime_halo_update(X, coeff[0], coeff[1]))\n",
    "RSS=np.sum(resid**2)"
   ]
  },
  {
   "cell_type": "code",
   "execution_count": 50,
   "id": "57a43dbc-d3f7-4d85-bb24-585da357ef88",
   "metadata": {},
   "outputs": [
    {
     "data": {
      "text/plain": [
       "(array([ 1.,  0.,  1.,  0.,  6.,  5., 21., 19., 24., 20., 21., 13.,  5.,\n",
       "         3.,  1.]),\n",
       " array([-0.01482634, -0.01312479, -0.01142324, -0.00972169, -0.00802014,\n",
       "        -0.00631859, -0.00461704, -0.00291549, -0.00121394,  0.00048762,\n",
       "         0.00218917,  0.00389072,  0.00559227,  0.00729382,  0.00899537,\n",
       "         0.01069692]),\n",
       " <BarContainer object of 15 artists>)"
      ]
     },
     "execution_count": 50,
     "metadata": {},
     "output_type": "execute_result"
    },
    {
     "data": {
      "image/png": "[encoded data removed]",
      "text/plain": [
       "<Figure size 432x288 with 1 Axes>"
      ]
     },
     "metadata": {
      "needs_background": "light"
     },
     "output_type": "display_data"
    }
   ],
   "source": [
    "plt.hist(resid,bins=15)"
   ]
  },
  {
   "cell_type": "code",
   "execution_count": 56,
   "id": "7aa5c134-a998-4109-81c6-0ccea4a72310",
   "metadata": {},
   "outputs": [
    {
     "data": {
      "image/png": "[encoded data removed]",
      "text/plain": [
       "<Figure size 432x288 with 1 Axes>"
      ]
     },
     "metadata": {
      "needs_background": "light"
     },
     "output_type": "display_data"
    }
   ],
   "source": [
    "import scipy.stats as stats\n",
    "import pylab\n",
    "stats.probplot(resid, dist=\"norm\",plot=pylab)\n",
    "pylab.show()"
   ]
  },
  {
   "cell_type": "code",
   "execution_count": 58,
   "id": "2de1e293-1a5a-4da5-95dc-861f7843fcbb",
   "metadata": {},
   "outputs": [
    {
     "ename": "ModuleNotFoundError",
     "evalue": "No module named 'statsmodels'",
     "output_type": "error",
     "traceback": [
      "\u001b[0;31m---------------------------------------------------------------------------\u001b[0m",
      "\u001b[0;31mModuleNotFoundError\u001b[0m                       Traceback (most recent call last)",
      "Input \u001b[0;32mIn [58]\u001b[0m, in \u001b[0;36m<module>\u001b[0;34m\u001b[0m\n\u001b[1;32m      1\u001b[0m \u001b[38;5;28;01mimport\u001b[39;00m \u001b[38;5;21;01mmatplotlib\u001b[39;00m\u001b[38;5;21;01m.\u001b[39;00m\u001b[38;5;21;01mpyplot\u001b[39;00m \u001b[38;5;28;01mas\u001b[39;00m \u001b[38;5;21;01mplt\u001b[39;00m\n\u001b[0;32m----> 2\u001b[0m \u001b[38;5;28;01mfrom\u001b[39;00m \u001b[38;5;21;01mstatsmodels\u001b[39;00m\u001b[38;5;21;01m.\u001b[39;00m\u001b[38;5;21;01mformula\u001b[39;00m\u001b[38;5;21;01m.\u001b[39;00m\u001b[38;5;21;01mapi\u001b[39;00m \u001b[38;5;28;01mimport\u001b[39;00m ols\n\u001b[1;32m      3\u001b[0m \u001b[38;5;28;01mfrom\u001b[39;00m \u001b[38;5;21;01mstatsmodels\u001b[39;00m\u001b[38;5;21;01m.\u001b[39;00m\u001b[38;5;21;01mgraphics\u001b[39;00m\u001b[38;5;21;01m.\u001b[39;00m\u001b[38;5;21;01mapi\u001b[39;00m \u001b[38;5;28;01mimport\u001b[39;00m interaction_plot, abline_plot\n\u001b[1;32m      4\u001b[0m \u001b[38;5;28;01mfrom\u001b[39;00m \u001b[38;5;21;01mstatsmodels\u001b[39;00m\u001b[38;5;21;01m.\u001b[39;00m\u001b[38;5;21;01mstats\u001b[39;00m\u001b[38;5;21;01m.\u001b[39;00m\u001b[38;5;21;01manova\u001b[39;00m \u001b[38;5;28;01mimport\u001b[39;00m anova_lm\n",
      "\u001b[0;31mModuleNotFoundError\u001b[0m: No module named 'statsmodels'"
     ]
    }
   ],
   "source": [
    "import matplotlib.pyplot as plt\n",
    "from statsmodels.formula.api import ols\n",
    "from statsmodels.graphics.api import interaction_plot, abline_plot\n",
    "from statsmodels.stats.anova import anova_lm\n",
    "\n"
   ]
  },
  {
   "cell_type": "code",
   "execution_count": 155,
   "id": "95108cba-174d-4717-ad7f-c83463c8a7e4",
   "metadata": {},
   "outputs": [],
   "source": [
    "num_ranks=np.array([2,4,8,12,16])\n",
    "#num_ranks=np.array([2,4])\n",
    "runtimes=[]\n",
    "runtimes_mean=[]\n",
    "runtimes_std=[]\n",
    "\n",
    "for i in num_ranks:\n",
    "    output = !srun -n {i} ./stencil3d-mpi.x+orig --nx 64 --ny 64 --nz 32 --num_iter 100 --num_halo 2\n",
    "    runtimes.append(output)"
   ]
  },
  {
   "cell_type": "code",
   "execution_count": 156,
   "id": "e03a77a1-bebd-4796-9d71-78d68d9d65aa",
   "metadata": {
    "collapsed": true,
    "jupyter": {
     "outputs_hidden": true
    },
    "tags": []
   },
   "outputs": [
    {
     "data": {
      "text/plain": [
       "[['[    0,   64,   64,   32,     100,  0.1690745E-01]',\n",
       "  '[    1,   64,   64,   32,     100,  0.1692390E-01]'],\n",
       " ['[    0,   64,   64,   32,     100,  0.9833574E-02]',\n",
       "  '[    1,   64,   64,   32,     100,  0.9857178E-02]',\n",
       "  '[    2,   64,   64,   32,     100,  0.9851456E-02]',\n",
       "  '[    3,   64,   64,   32,     100,  0.9836912E-02]'],\n",
       " [\"*** Error in `/users/class197/bin/myproject/./stencil2d-mpi.x+orig': free(): invalid pointer: 0x00000000006113d0 ***\",\n",
       "  \"stencil2d-mpi.x+orig: malloc.c:4025: _int_malloc: Assertion `(unsigned long) (size) >= (unsigned long) (nb)' failed.\",\n",
       "  \"*** Error in `/users/class197/bin/myproject/./stencil2d-mpi.x+orig': free(): invalid pointer: 0x000000000050ee50 ***\",\n",
       "  \"*** Error in `/users/class197/bin/myproject/./stencil2d-mpi.x+orig': free(): invalid pointer: 0x00000000004cb790 ***\",\n",
       "  \"*** Error in `/users/class197/bin/myproject/./stencil2d-mpi.x+orig': free(): invalid pointer: 0x00000000004cb790 ***\",\n",
       "  \"*** Error in `/users/class197/bin/myproject/./stencil2d-mpi.x+orig': free(): invalid pointer: 0x000000000050ee50 ***\",\n",
       "  'srun: error: nid06555: tasks 0-5: Aborted',\n",
       "  'srun: launch/slurm: _step_signal: Terminating StepId=41161133.248'],\n",
       " [\"*** Error in `/users/class197/bin/myproject/./stencil2d-mpi.x+orig': free(): invalid size: 0x00000000004fc810 ***\",\n",
       "  \"*** Error in `/users/class197/bin/myproject/./stencil2d-mpi.x+orig': free(): invalid size: 0x00000000004fc810 ***\",\n",
       "  \"*** Error in `/users/class197/bin/myproject/./stencil2d-mpi.x+orig': free(): invalid size: 0x00000000004fc810 ***\",\n",
       "  \"*** Error in `/users/class197/bin/myproject/./stencil2d-mpi.x+orig': munmap_chunk(): invalid pointer: 0x00000000004fc810 ***\",\n",
       "  \"*** Error in `/users/class197/bin/myproject/./stencil2d-mpi.x+orig': munmap_chunk(): invalid pointer: 0x00000000004fc810 ***\",\n",
       "  \"*** Error in `/users/class197/bin/myproject/./stencil2d-mpi.x+orig': double free or corruption (out): 0x00000000004fc810 ***\",\n",
       "  \"*** Error in `/users/class197/bin/myproject/./stencil2d-mpi.x+orig': munmap_chunk(): invalid pointer: 0x00000000004fc810 ***\",\n",
       "  'srun: error: nid06555: tasks 1-7: Aborted',\n",
       "  'srun: launch/slurm: _step_signal: Terminating StepId=41161133.249',\n",
       "  'slurmstepd: error: *** STEP 41161133.249 ON nid06555 CANCELLED AT 2022-09-09T15:07:57 ***',\n",
       "  'srun: error: nid06555: task 0: Terminated',\n",
       "  'srun: Force Terminated StepId=41161133.249'],\n",
       " ['[    0,   64,   64,   32,     100,  0.9521484E-02]',\n",
       "  '[    3,   64,   64,   32,     100,  0.9598494E-02]',\n",
       "  '[    4,   64,   64,   32,     100,  0.9565592E-02]',\n",
       "  '[    5,   64,   64,   32,     100,  0.9524584E-02]',\n",
       "  '[    1,   64,   64,   32,     100,  0.9498596E-02]',\n",
       "  '[    2,   64,   64,   32,     100,  0.9500504E-02]',\n",
       "  '[    6,   64,   64,   32,     100,  0.9574175E-02]',\n",
       "  '[    7,   64,   64,   32,     100,  0.9602070E-02]',\n",
       "  '[    8,   64,   64,   32,     100,  0.9620428E-02]'],\n",
       " [\"*** Error in `/users/class197/bin/myproject/./stencil2d-mpi.x+orig': free(): invalid pointer: 0x00000000004f5550 ***\",\n",
       "  \"*** Error in `/users/class197/bin/myproject/./stencil2d-mpi.x+orig': free(): invalid pointer: 0x00000000004f5550 ***\",\n",
       "  \"*** Error in `/users/class197/bin/myproject/./stencil2d-mpi.x+orig': free(): invalid pointer: 0x00000000004f5550 ***\",\n",
       "  'srun: error: nid06555: tasks 1,6-7: Aborted',\n",
       "  'srun: launch/slurm: _step_signal: Terminating StepId=41161133.251',\n",
       "  'srun: error: nid06555: tasks 4-5: Bus error',\n",
       "  'slurmstepd: error: *** STEP 41161133.251 ON nid06555 CANCELLED AT 2022-09-09T15:08:00 ***',\n",
       "  'srun: error: nid06555: tasks 0,2-3,8-9: Terminated',\n",
       "  'srun: Force Terminated StepId=41161133.251'],\n",
       " ['[    0,   64,   64,   32,     100,  0.5469322E-02]',\n",
       "  '[    1,   64,   64,   32,     100,  0.5471945E-02]',\n",
       "  '[    6,   64,   64,   32,     100,  0.5464554E-02]',\n",
       "  '[    8,   64,   64,   32,     100,  0.5472660E-02]',\n",
       "  '[    9,   64,   64,   32,     100,  0.5471706E-02]',\n",
       "  '[    2,   64,   64,   32,     100,  0.5469084E-02]',\n",
       "  '[    3,   64,   64,   32,     100,  0.5469322E-02]',\n",
       "  '[    4,   64,   64,   32,     100,  0.5473852E-02]',\n",
       "  '[    5,   64,   64,   32,     100,  0.5489349E-02]',\n",
       "  '[    7,   64,   64,   32,     100,  0.5471945E-02]',\n",
       "  '[   10,   64,   64,   32,     100,  0.5473137E-02]',\n",
       "  '[   11,   64,   64,   32,     100,  0.5488157E-02]'],\n",
       " [\"*** Error in `/users/class197/bin/myproject/./stencil2d-mpi.x+orig': free(): invalid pointer: 0x00000000004cdc10 ***\",\n",
       "  \"*** Error in `/users/class197/bin/myproject/./stencil2d-mpi.x+orig': free(): invalid pointer: 0x0000000000613a90 ***\",\n",
       "  \"*** Error in `/users/class197/bin/myproject/./stencil2d-mpi.x+orig': free(): invalid pointer: 0x00000000004cdc10 ***\",\n",
       "  \"*** Error in `/users/class197/bin/myproject/./stencil2d-mpi.x+orig': free(): invalid pointer: 0x00000000004cdc10 ***\",\n",
       "  \"*** Error in `/users/class197/bin/myproject/./stencil2d-mpi.x+orig': free(): invalid pointer: 0x00000000004cdc10 ***\",\n",
       "  \"*** Error in `/users/class197/bin/myproject/./stencil2d-mpi.x+orig': free(): invalid pointer: 0x00000000004cdc10 ***\",\n",
       "  \"*** Error in `/users/class197/bin/myproject/./stencil2d-mpi.x+orig': free(): invalid pointer: 0x00000000004cdc10 ***\",\n",
       "  'xpmem_attach error: : No such file or directory',\n",
       "  \"*** Error in `/users/class197/bin/myproject/./stencil2d-mpi.x+orig': free(): invalid pointer: 0x00000000004cdc10 ***\",\n",
       "  'srun: error: nid06555: tasks 0-1,3-4,9-11,13: Aborted',\n",
       "  'srun: launch/slurm: _step_signal: Terminating StepId=41161133.253',\n",
       "  'srun: error: nid06555: task 5: Segmentation fault',\n",
       "  'slurmstepd: error: *** STEP 41161133.253 ON nid06555 CANCELLED AT 2022-09-09T15:08:02 ***',\n",
       "  'srun: error: nid06555: task 8: Bus error',\n",
       "  'srun: error: nid06555: tasks 2,6-7,12: Terminated',\n",
       "  'srun: Force Terminated StepId=41161133.253'],\n",
       " ['[    0,   64,   64,   32,     100,  0.7325888E-02]',\n",
       "  '[    2,   64,   64,   32,     100,  0.7427931E-02]',\n",
       "  '[    5,   64,   64,   32,     100,  0.7406473E-02]',\n",
       "  '[    6,   64,   64,   32,     100,  0.7415771E-02]',\n",
       "  '[    7,   64,   64,   32,     100,  0.7430077E-02]',\n",
       "  '[    8,   64,   64,   32,     100,  0.7378578E-02]',\n",
       "  '[   11,   64,   64,   32,     100,  0.7316351E-02]',\n",
       "  '[    1,   64,   64,   32,     100,  0.7337332E-02]',\n",
       "  '[    3,   64,   64,   32,     100,  0.7427454E-02]',\n",
       "  '[    4,   64,   64,   32,     100,  0.7402420E-02]',\n",
       "  '[    9,   64,   64,   32,     100,  0.7385731E-02]',\n",
       "  '[   10,   64,   64,   32,     100,  0.7318497E-02]',\n",
       "  '[   12,   64,   64,   32,     100,  0.7305384E-02]',\n",
       "  '[   13,   64,   64,   32,     100,  0.7303953E-02]',\n",
       "  '[   14,   64,   64,   32,     100,  0.7300854E-02]',\n",
       "  '[   15,   64,   64,   32,     100,  0.7304430E-02]']]"
      ]
     },
     "execution_count": 156,
     "metadata": {},
     "output_type": "execute_result"
    }
   ],
   "source": [
    "runtimes"
   ]
  },
  {
   "cell_type": "code",
   "execution_count": 70,
   "id": "7053b537-388a-4db4-a87a-329166848d2d",
   "metadata": {},
   "outputs": [],
   "source": [
    "runtimes_mean12=np.mean(runtimes_mean_list12,axis=0)\n",
    "runtimes_std12=np.std(runtimes_mean_list12,axis=0)"
   ]
  },
  {
   "cell_type": "code",
   "execution_count": 119,
   "id": "02b54880-4472-41fa-a10e-2bfa2ce115df",
   "metadata": {},
   "outputs": [
    {
     "data": {
      "text/plain": [
       "array([5.66254167e-05, 1.78704167e-05, 2.89584208e-03, 6.65887500e-05,\n",
       "       3.91808333e-05, 1.75337500e-05, 1.54972083e-04, 3.82190917e-03])"
      ]
     },
     "execution_count": 119,
     "metadata": {},
     "output_type": "execute_result"
    }
   ],
   "source": [
    "runtimes_std=np.std(runtimes_mean_list12, axis=0)\n",
    "runtimes_std"
   ]
  },
  {
   "cell_type": "code",
   "execution_count": 75,
   "id": "71530870-f1c0-4d7f-b6b1-752e262e08ca",
   "metadata": {},
   "outputs": [],
   "source": [
    "d = {'mean': runtimes_mean12.tolist(), 'std': runtimes_std12.tolist()}\n",
    "df_12 = pd.DataFrame(data=d)\n",
    "df_12.to_csv('dataframes/df_12.csv')"
   ]
  },
  {
   "cell_type": "code",
   "execution_count": 71,
   "id": "8ab561a0-8ddd-4032-a669-5780049dfc57",
   "metadata": {
    "tags": []
   },
   "outputs": [
    {
     "data": {
      "text/plain": [
       "<ErrorbarContainer object of 3 artists>"
      ]
     },
     "execution_count": 71,
     "metadata": {},
     "output_type": "execute_result"
    },
    {
     "data": {
      "image/png": "[encoded data removed]",
      "text/plain": [
       "<Figure size 432x288 with 1 Axes>"
      ]
     },
     "metadata": {
      "needs_background": "light"
     },
     "output_type": "display_data"
    }
   ],
   "source": [
    "plt.errorbar(num_halos,runtimes_mean12, yerr=runtimes_std12)"
   ]
  },
  {
   "cell_type": "code",
   "execution_count": 101,
   "id": "1d9ce17c-9783-4b29-a956-13a721ebdee2",
   "metadata": {},
   "outputs": [
    {
     "data": {
      "image/png": "[encoded data removed]",
      "text/plain": [
       "<Figure size 432x288 with 1 Axes>"
      ]
     },
     "metadata": {
      "needs_background": "light"
     },
     "output_type": "display_data"
    }
   ],
   "source": [
    "for j in range(2):\n",
    "    plt.errorplot(num_halos,runtimes_mean[j],'.')"
   ]
  },
  {
   "cell_type": "markdown",
   "id": "c0593493-ea4c-40c6-a452-7d8e11b7dcf5",
   "metadata": {},
   "source": [
    "plt.plot(num_halos,runtimes_mean,'.')"
   ]
  },
  {
   "cell_type": "code",
   "execution_count": 64,
   "id": "c64a841b-7d56-48fa-ab13-7c1ce824b2a5",
   "metadata": {},
   "outputs": [],
   "source": [
    "\n",
    "def read_field_from_file(filename, num_halo=None):\n",
    "    (rank, nbits, num_halo, nx, ny, nz) = np.fromfile(filename, dtype=np.int32, count=6)\n",
    "    offset=(3 + rank) * 32 // nbits\n",
    "    data = np.fromfile(filename, dtype=np.float32 if nbits == 32 else np.float64, \\\n",
    "                       count=nz * ny * nx + offset)\n",
    "    if rank == 3:\n",
    "        return np.reshape(data[offset:], (nz, ny, nx))\n",
    "    else:\n",
    "        return np.reshape(data[offset:], (ny, nx))\n",
    "\n",
    "def validate_results():\n",
    "    fig, axs = plt.subplots(1, 2, figsize=(12, 4))\n",
    "\n",
    "    in_field = read_field_from_file('in_field.dat')\n",
    "    k_lev = in_field.shape[0] // 2\n",
    "    im1 = axs[0].imshow(in_field[k_lev, :, :], origin='lower', vmin=-0.1, vmax=1.1);\n",
    "    fig.colorbar(im1, ax=axs[0]);\n",
    "    axs[0].set_title('Initial condition (k = {})'.format(k_lev));\n",
    "\n",
    "    out_field = read_field_from_file('out_field.dat')\n",
    "    k_lev = out_field.shape[0] // 2\n",
    "    im2 = axs[1].imshow(out_field[k_lev, :, :], origin='lower', vmin=-0.1, vmax=1.1);\n",
    "    fig.colorbar(im2, ax=axs[1]);\n",
    "    axs[1].set_title('Final result (k = {})'.format(k_lev));\n",
    "    \n",
    "    plt.show()"
   ]
  },
  {
   "cell_type": "code",
   "execution_count": 65,
   "id": "46de0ff6-8f3c-4281-8c6a-451cd32f4093",
   "metadata": {},
   "outputs": [
    {
     "data": {
      "image/png": "[encoded data removed]",
      "text/plain": [
       "<Figure size 864x288 with 4 Axes>"
      ]
     },
     "metadata": {
      "needs_background": "light"
     },
     "output_type": "display_data"
    }
   ],
   "source": [
    "validate_results()"
   ]
  },
  {
   "cell_type": "code",
   "execution_count": 58,
   "id": "dbd431c6-3580-4799-a868-f22579be639c",
   "metadata": {
    "collapsed": true,
    "jupyter": {
     "outputs_hidden": true
    },
    "tags": []
   },
   "outputs": [
    {
     "data": {
      "text/plain": [
       "array([[[0.000000e+00, 0.000000e+00, 4.107039e-39, ..., 0.000000e+00,\n",
       "         0.000000e+00, 0.000000e+00],\n",
       "        [0.000000e+00, 0.000000e+00, 0.000000e+00, ..., 0.000000e+00,\n",
       "         0.000000e+00, 0.000000e+00],\n",
       "        [0.000000e+00, 0.000000e+00, 0.000000e+00, ..., 0.000000e+00,\n",
       "         0.000000e+00, 0.000000e+00],\n",
       "        ...,\n",
       "        [0.000000e+00, 0.000000e+00, 0.000000e+00, ..., 0.000000e+00,\n",
       "         0.000000e+00, 0.000000e+00],\n",
       "        [0.000000e+00, 0.000000e+00, 0.000000e+00, ..., 0.000000e+00,\n",
       "         0.000000e+00, 0.000000e+00],\n",
       "        [0.000000e+00, 0.000000e+00, 0.000000e+00, ..., 0.000000e+00,\n",
       "         0.000000e+00, 0.000000e+00]],\n",
       "\n",
       "       [[0.000000e+00, 0.000000e+00, 0.000000e+00, ..., 0.000000e+00,\n",
       "         0.000000e+00, 0.000000e+00],\n",
       "        [0.000000e+00, 0.000000e+00, 0.000000e+00, ..., 0.000000e+00,\n",
       "         0.000000e+00, 0.000000e+00],\n",
       "        [0.000000e+00, 0.000000e+00, 0.000000e+00, ..., 0.000000e+00,\n",
       "         0.000000e+00, 0.000000e+00],\n",
       "        ...,\n",
       "        [0.000000e+00, 0.000000e+00, 0.000000e+00, ..., 0.000000e+00,\n",
       "         0.000000e+00, 0.000000e+00],\n",
       "        [0.000000e+00, 0.000000e+00, 0.000000e+00, ..., 0.000000e+00,\n",
       "         0.000000e+00, 0.000000e+00],\n",
       "        [0.000000e+00, 0.000000e+00, 0.000000e+00, ..., 0.000000e+00,\n",
       "         0.000000e+00, 0.000000e+00]],\n",
       "\n",
       "       [[0.000000e+00, 0.000000e+00, 0.000000e+00, ..., 0.000000e+00,\n",
       "         0.000000e+00, 0.000000e+00],\n",
       "        [0.000000e+00,          nan,          nan, ...,          nan,\n",
       "                  nan,          nan],\n",
       "        [0.000000e+00,          nan,          nan, ...,          nan,\n",
       "                  nan,          nan],\n",
       "        ...,\n",
       "        [0.000000e+00,          nan,          nan, ...,          nan,\n",
       "                  nan,          nan],\n",
       "        [0.000000e+00,          nan,          nan, ...,          nan,\n",
       "                  nan,          nan],\n",
       "        [0.000000e+00,          nan,          nan, ...,          nan,\n",
       "                  nan,          nan]],\n",
       "\n",
       "       ...,\n",
       "\n",
       "       [[0.000000e+00, 0.000000e+00, 0.000000e+00, ..., 0.000000e+00,\n",
       "         0.000000e+00, 0.000000e+00],\n",
       "        [0.000000e+00,          nan,          nan, ...,          nan,\n",
       "                  nan,          nan],\n",
       "        [0.000000e+00,          nan,          nan, ...,          nan,\n",
       "                  nan,          nan],\n",
       "        ...,\n",
       "        [0.000000e+00,          nan,          nan, ...,          nan,\n",
       "                  nan,          nan],\n",
       "        [0.000000e+00,          nan,          nan, ...,          nan,\n",
       "                  nan,          nan],\n",
       "        [1.000000e+00,          nan,          nan, ...,          nan,\n",
       "                  nan,          nan]],\n",
       "\n",
       "       [[0.000000e+00, 0.000000e+00, 0.000000e+00, ..., 0.000000e+00,\n",
       "         0.000000e+00, 0.000000e+00],\n",
       "        [0.000000e+00, 0.000000e+00, 0.000000e+00, ..., 0.000000e+00,\n",
       "         0.000000e+00, 0.000000e+00],\n",
       "        [0.000000e+00, 0.000000e+00, 0.000000e+00, ..., 0.000000e+00,\n",
       "         0.000000e+00, 0.000000e+00],\n",
       "        ...,\n",
       "        [0.000000e+00, 0.000000e+00, 0.000000e+00, ..., 0.000000e+00,\n",
       "         0.000000e+00, 0.000000e+00],\n",
       "        [0.000000e+00, 0.000000e+00, 0.000000e+00, ..., 0.000000e+00,\n",
       "         0.000000e+00, 0.000000e+00],\n",
       "        [0.000000e+00, 0.000000e+00, 0.000000e+00, ..., 0.000000e+00,\n",
       "         0.000000e+00, 0.000000e+00]],\n",
       "\n",
       "       [[0.000000e+00, 0.000000e+00, 0.000000e+00, ..., 0.000000e+00,\n",
       "         0.000000e+00, 0.000000e+00],\n",
       "        [0.000000e+00, 0.000000e+00, 0.000000e+00, ..., 0.000000e+00,\n",
       "         0.000000e+00, 0.000000e+00],\n",
       "        [0.000000e+00, 0.000000e+00, 0.000000e+00, ..., 0.000000e+00,\n",
       "         0.000000e+00, 0.000000e+00],\n",
       "        ...,\n",
       "        [0.000000e+00, 0.000000e+00, 0.000000e+00, ..., 0.000000e+00,\n",
       "         0.000000e+00, 0.000000e+00],\n",
       "        [0.000000e+00, 0.000000e+00, 0.000000e+00, ..., 0.000000e+00,\n",
       "         0.000000e+00, 0.000000e+00],\n",
       "        [0.000000e+00, 0.000000e+00, 0.000000e+00, ..., 0.000000e+00,\n",
       "         0.000000e+00, 0.000000e+00]]], dtype=float32)"
      ]
     },
     "execution_count": 58,
     "metadata": {},
     "output_type": "execute_result"
    }
   ],
   "source": [
    "out_field = read_field_from_file('out_field.dat')\n",
    "out_field"
   ]
  },
  {
   "cell_type": "code",
   "execution_count": null,
   "id": "0cea9534-d157-41ac-b382-7a5bfe614741",
   "metadata": {},
   "outputs": [],
   "source": [
    "\n",
    "!srun -n 12 ./stencil3d-mpi.x --nx 128 --ny 128 --nz 64 --num_iter 1024 > report_counter_128x128x64.txt"
   ]
  },
  {
   "cell_type": "code",
   "execution_count": null,
   "id": "74aa8ad0-23f4-4f7c-8565-7f94229e3d90",
   "metadata": {},
   "outputs": [],
   "source": [
    "!srun -n 12 ./stencil3d-mpi.x --nx 128 --ny 128 --nz 64 --num_iter 1024 > report_counter_128x128x64.txt"
   ]
  },
  {
   "cell_type": "code",
   "execution_count": null,
   "id": "85110cec-5777-4030-affe-9e757379112e",
   "metadata": {},
   "outputs": [],
   "source": [
    "num_ranks=np.array([2,4,6,8,9,10,12,14,16])\n",
    "#num_ranks=np.array([2,4])\n",
    "runtimes=[]\n",
    "runtimes_mean=[]\n",
    "runtimes_std=[]\n",
    "\n",
    "for i in num_ranks:\n",
    "    output = !srun -n {i} ./stencil3d-mpi.x+orig --nx 64 --ny 64 --nz 32 --num_iter 500 --num_halo 2\n",
    "    df = np.asarray(output)\n",
    "    df = [ast.literal_eval(i) for i in df.tolist()]\n",
    "    df=np.asarray(df)\n",
    "    runtimes.append(df[:,5].tolist())\n",
    "\n",
    "for j in range(len(num_ranks)):\n",
    "    runtimes_mean.append(np.mean(runtimes[j]))\n",
    "    runtimes_std.append(np.std(runtimes[j]))\n",
    "\n"
   ]
  }
 ],
 "metadata": {
  "kernelspec": {
   "display_name": "Python 3 (ipykernel)",
   "language": "python",
   "name": "python3"
  },
  "language_info": {
   "codemirror_mode": {
    "name": "ipython",
    "version": 3
   },
   "file_extension": ".py",
   "mimetype": "text/x-python",
   "name": "python",
   "nbconvert_exporter": "python",
   "pygments_lexer": "ipython3",
   "version": "3.9.4"
  }
 },
 "nbformat": 4,
 "nbformat_minor": 5
}
